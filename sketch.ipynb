{
 "cells": [
  {
   "cell_type": "code",
   "execution_count": 213,
   "id": "18187703-841e-4aec-93e9-7be78240bab9",
   "metadata": {},
   "outputs": [],
   "source": [
    "import sounddevice as sd\n",
    "import random\n",
    "import numpy as np\n",
    "import librosa\n",
    "\n",
    "from pydub import AudioSegment\n",
    "from scipy.io import wavfile\n",
    "from midi2audio import FluidSynth\n",
    "from midiutil import MIDIFile\n",
    "from src.util.features import get_feature_vector\n",
    "from scipy.spatial.distance import cosine, minkowski\n",
    "\n",
    "from mido import MidiFile, Message, MidiTrack"
   ]
  },
  {
   "cell_type": "code",
   "execution_count": 197,
   "id": "b27ec8ed-a635-49b3-96ae-b371006e5d4a",
   "metadata": {},
   "outputs": [],
   "source": [
    "def play(file=None, sr=44100):\n",
    "    if file == None: file=WAV_FILE+\".wav\"\n",
    "    song, fs = librosa.load(file,sr=sr)\n",
    "    sd.play(song, fs)\n",
    "    sd.wait()"
   ]
  },
  {
   "cell_type": "code",
   "execution_count": 4,
   "id": "e56fd162-bddc-4c17-8011-f02570367a08",
   "metadata": {},
   "outputs": [],
   "source": [
    "def rand(low=0, high=2):\n",
    "    return random.random()*(high - low + 1) + low"
   ]
  },
  {
   "cell_type": "code",
   "execution_count": 351,
   "id": "e3da2c6a-ddb1-45fa-997f-45fbc61c14eb",
   "metadata": {},
   "outputs": [],
   "source": [
    "FONT = \"./src/soundfonts/piano_chords.sf2\"\n",
    "MIDI_FILE = \"./src/input/temp\"\n",
    "WAV_FILE = \"./src/output/temp\""
   ]
  },
  {
   "cell_type": "code",
   "execution_count": 305,
   "id": "b7827925-0292-400f-afec-ffc909276aa9",
   "metadata": {},
   "outputs": [],
   "source": [
    "def save_harmony(midi_file, out):\n",
    "    with open(MIDI_FILE + out + \".midi\", \"wb\") as output_file:\n",
    "        midi_file.writeFile(output_file)\n",
    "        output_file.close()\n",
    "        \n",
    "    song = BytesIO()\n",
    "    wav_song = BytesIO()\n",
    "    \n",
    "    midi_file.writeFile(song)\n",
    "\n",
    "    FluidSynth(\n",
    "            sound_font=FONT\n",
    "        ).midi_to_audio(MIDI_FILE + out + \".midi\", WAV_FILE + out + \".wav\")"
   ]
  },
  {
   "cell_type": "code",
   "execution_count": 315,
   "id": "f001bbe4-e67e-4fb2-862f-03a368c19756",
   "metadata": {},
   "outputs": [],
   "source": [
    "\"\"\"\n",
    "\n",
    "Feito pelo GPT\n",
    "\n",
    "\"\"\"\n",
    "def generate_random_chord_progression():\n",
    "    chords = [[60, 64, 67], [62, 65, 69], [64, 67, 71], [65, 69, 72]]\n",
    "    return random.choices(chords, k=4)\n",
    "\n",
    "def generate_random_melody():\n",
    "    # Create a new MIDI file\n",
    "    mf = MIDIFile(2)\n",
    "    melody_track = 0\n",
    "    bassline_track = 1\n",
    "    time = 0\n",
    "    \n",
    "    mf.addTrackName(melody_track, time, \"Melody Track\")\n",
    "    mf.addTrackName(bassline_track, time, \"Bassline Track\")\n",
    "    mf.addTempo(melody_track, time, 120)\n",
    "    mf.addTempo(bassline_track, time, 120)\n",
    "\n",
    "    # Generate a random chord progression\n",
    "    chord_progression = generate_random_chord_progression()\n",
    "\n",
    "    for i in range(10):\n",
    "        # Add the chord to the MIDI file\n",
    "        chord = chord_progression[i % len(chord_progression)]\n",
    "        for n in chord:\n",
    "            mf.addNote(melody_track, 0, n, i, 1, 100)\n",
    "\n",
    "        # Generate a random melody note that fits the chord\n",
    "        pitch = random.choice(chord)\n",
    "        duration = 1\n",
    "        mf.addNote(melody_track, 0, pitch, i, duration, 100)\n",
    "\n",
    "        # Generate a random bassline note that fits the chord\n",
    "        print(chord)\n",
    "        current_chord = [note for note in chord if note % 12 in [0, 5]]\n",
    "        if len(current_chord)==0:\n",
    "            current_chord = [chord[0]]\n",
    "        bassline_pitch = random.choice(current_chord)\n",
    "        mf.addNote(bassline_track, 0, bassline_pitch, i, 1, 100)\n",
    "\n",
    "    # Save the MIDI file\n",
    "    save_harmony(mf, \"\")"
   ]
  },
  {
   "cell_type": "code",
   "execution_count": 267,
   "id": "a58c980f-169b-4c7d-ae6b-9b21fe3df7aa",
   "metadata": {},
   "outputs": [
    {
     "name": "stdout",
     "output_type": "stream",
     "text": [
      "[60, 64, 67]\n",
      "[60, 64, 67]\n",
      "[65, 69, 72]\n",
      "[64, 67, 71]\n",
      "[60, 64, 67]\n",
      "[60, 64, 67]\n",
      "[65, 69, 72]\n",
      "[64, 67, 71]\n",
      "[60, 64, 67]\n",
      "[60, 64, 67]\n"
     ]
    }
   ],
   "source": [
    "generate_random_melody()"
   ]
  },
  {
   "cell_type": "markdown",
   "id": "a105970c-425a-4e11-9cb4-651a3b1b87e4",
   "metadata": {},
   "source": [
    "## Parameters to encode\n",
    " - [ ] Tempo\n",
    " - [ ] Nº of Notes\n",
    " - [x] Notes\n",
    " - [x] Notes duration\n",
    " - [x] Chords\n",
    " - [ ] Probability of operations (?)"
   ]
  },
  {
   "cell_type": "code",
   "execution_count": 308,
   "id": "ebf1e275-6dd8-4a54-9c6c-e9c3687d6606",
   "metadata": {},
   "outputs": [],
   "source": [
    "def get_pitch(i: int):\n",
    "    pitch_base = [23, 35, 47, 59, 71, 83, 95, 107]\n",
    "    return pitch_base[i]"
   ]
  },
  {
   "cell_type": "code",
   "execution_count": null,
   "id": "c5235ca5-ec42-4b26-a920-301c5ea322a2",
   "metadata": {},
   "outputs": [],
   "source": [
    "def generate_random_note():\n",
    "    pitch = get_pitch(3)\n",
    "    notes = list(range(0,12+1))\n",
    "    \n",
    "    note = random.choice(notes) + pitch\n",
    "    return note"
   ]
  },
  {
   "cell_type": "code",
   "execution_count": 443,
   "id": "aa0c55ca-450d-4832-8ce5-b4fbce60f8e6",
   "metadata": {},
   "outputs": [],
   "source": [
    "def generate_random_chord():\n",
    "    chord = [generate_random_note() for _ in range(3)]\n",
    "    duration = random.choice(range(1, 8+1))\n",
    "    return duration, chord"
   ]
  },
  {
   "cell_type": "code",
   "execution_count": 364,
   "id": "e3379fcb-d001-4f5f-aaf6-6b3f9d5041f8",
   "metadata": {},
   "outputs": [],
   "source": [
    "generate_random_meldody()"
   ]
  },
  {
   "cell_type": "code",
   "execution_count": 437,
   "id": "b68c9b2a-b519-40dc-8abb-c7900df4fd3e",
   "metadata": {},
   "outputs": [],
   "source": [
    "def generate_random_genome():\n",
    "    N = random.choice(range(5, 20+1))\n",
    "    \n",
    "    genome = []\n",
    "    for _ in range(N):\n",
    "        duration, chord = generate_random_chord()\n",
    "        melody_note = random.choice(chord)\n",
    "        genome.append((duration/2, chord, melody_note))\n",
    "    # ( Duration, Chord, Note )\n",
    "    return genome"
   ]
  },
  {
   "cell_type": "code",
   "execution_count": 449,
   "id": "6580acdb-579e-4382-8fd5-a943f6e908f5",
   "metadata": {},
   "outputs": [],
   "source": [
    "def get_phenotype(genome):\n",
    "    midi_file = MIDIFile(2)\n",
    "    melody=0\n",
    "    \n",
    "    tempo = 120\n",
    "    midi_file.addTempo(melody, 0, tempo)\n",
    "    \n",
    "    cum_time = 0\n",
    "    for el in genome:\n",
    "        d, chord, note = el\n",
    "        if 59 not in chord:\n",
    "            for n in chord:\n",
    "                midi_file.addNote(melody, 0, n, cum_time, d, 100)\n",
    "            midi_file.addNote(melody, 0, note, cum_time, d, 100)\n",
    "        \n",
    "        cum_time+=d\n",
    "    save_harmony(midi_file, \"\")\n",
    "    return midi_file"
   ]
  },
  {
   "cell_type": "code",
   "execution_count": 447,
   "id": "1b9cab60-c50c-426e-9c25-b74fd1cd7195",
   "metadata": {},
   "outputs": [
    {
     "data": {
      "text/plain": [
       "[(3.0, [71, 69, 64], 64),\n",
       " (1.5, [70, 62, 64], 62),\n",
       " (1.0, [70, 70, 64], 70),\n",
       " (3.0, [65, 67, 71], 67),\n",
       " (1.5, [67, 66, 70], 66),\n",
       " (1.0, [59, 63, 59], 63),\n",
       " (1.5, [66, 61, 71], 71)]"
      ]
     },
     "execution_count": 447,
     "metadata": {},
     "output_type": "execute_result"
    }
   ],
   "source": [
    "gen = generate_random_genome()\n",
    "gen"
   ]
  },
  {
   "cell_type": "code",
   "execution_count": 450,
   "id": "10d0f7e2-b955-4bcf-85c9-6ba3262d9633",
   "metadata": {},
   "outputs": [],
   "source": [
    "mf = get_phenotype(gen)"
   ]
  },
  {
   "cell_type": "code",
   "execution_count": null,
   "id": "5aacc6fb-dc6c-4e36-bce6-0f05b4b19963",
   "metadata": {},
   "outputs": [],
   "source": []
  }
 ],
 "metadata": {
  "kernelspec": {
   "display_name": "Python 3 (ipykernel)",
   "language": "python",
   "name": "python3"
  },
  "language_info": {
   "codemirror_mode": {
    "name": "ipython",
    "version": 3
   },
   "file_extension": ".py",
   "mimetype": "text/x-python",
   "name": "python",
   "nbconvert_exporter": "python",
   "pygments_lexer": "ipython3",
   "version": "3.9.7"
  }
 },
 "nbformat": 4,
 "nbformat_minor": 5
}
