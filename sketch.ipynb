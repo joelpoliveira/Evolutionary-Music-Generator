{
 "cells": [
  {
   "cell_type": "code",
   "execution_count": 18,
   "id": "18187703-841e-4aec-93e9-7be78240bab9",
   "metadata": {},
   "outputs": [],
   "source": [
    "import sounddevice as sd\n",
    "import random\n",
    "import numpy as np\n",
    "import librosa\n",
    "\n",
    "from threading import Thread\n",
    "from pydub import AudioSegment\n",
    "from scipy.io import wavfile\n",
    "from midi2audio import FluidSynth\n",
    "from midiutil import MIDIFile\n",
    "from src.util.features import get_feature_vector\n",
    "from scipy.spatial.distance import cosine, minkowski\n",
    "from io import BytesIO"
   ]
  },
  {
   "cell_type": "code",
   "execution_count": 174,
   "id": "69154d1d-479e-422e-8e1f-ce70b833c7d8",
   "metadata": {},
   "outputs": [],
   "source": [
    "FONT = \"./src/soundfonts/piano_eletro.sf2\"\n",
    "MIDI_FILE = \"./src/input/temp\"\n",
    "WAV_FILE = \"./src/output/temp\""
   ]
  },
  {
   "cell_type": "code",
   "execution_count": 42,
   "id": "37359807-599d-4657-923a-b29b4f29f762",
   "metadata": {},
   "outputs": [],
   "source": [
    "def loop_play(file=None, sr=44100):\n",
    "    t = Thread(target=play)\n",
    "    t.start()"
   ]
  },
  {
   "cell_type": "code",
   "execution_count": 20,
   "id": "b27ec8ed-a635-49b3-96ae-b371006e5d4a",
   "metadata": {},
   "outputs": [],
   "source": [
    "def play(file=None, sr=44100):\n",
    "    if file == None: file=WAV_FILE+\".wav\"\n",
    "    song, fs = librosa.load(file,sr=sr)\n",
    "    sd.play(song, fs, loop=True)\n",
    "    sd.wait()"
   ]
  },
  {
   "cell_type": "code",
   "execution_count": 21,
   "id": "e56fd162-bddc-4c17-8011-f02570367a08",
   "metadata": {},
   "outputs": [],
   "source": [
    "def rand(low=0, high=2):\n",
    "    return random.random()*(high - low + 1) + low"
   ]
  },
  {
   "cell_type": "code",
   "execution_count": 22,
   "id": "b7827925-0292-400f-afec-ffc909276aa9",
   "metadata": {},
   "outputs": [],
   "source": [
    "def save_harmony(midi_file, out):\n",
    "    with open(MIDI_FILE + out + \".midi\", \"wb\") as output_file:\n",
    "        midi_file.writeFile(output_file)\n",
    "        output_file.close()\n",
    "    \n",
    "    song = BytesIO()\n",
    "    wav_song = BytesIO()\n",
    "    \n",
    "    midi_file.writeFile(song)\n",
    "\n",
    "    FluidSynth(\n",
    "            sound_font=FONT\n",
    "        ).midi_to_audio(MIDI_FILE + out + \".midi\", WAV_FILE + out + \".wav\")"
   ]
  },
  {
   "cell_type": "markdown",
   "id": "a105970c-425a-4e11-9cb4-651a3b1b87e4",
   "metadata": {},
   "source": [
    "## Parameters to encode\n",
    " - [ ] Tempo\n",
    " - [ ] Nº of Notes\n",
    " - [x] Notes\n",
    " - [x] Notes duration\n",
    " - [x] Probability of operations "
   ]
  },
  {
   "cell_type": "markdown",
   "id": "c45dd8d9-f5de-4351-a6f1-fc3c8e5d6ee3",
   "metadata": {
    "jp-MarkdownHeadingCollapsed": true,
    "tags": []
   },
   "source": [
    "## Methods For the Generation of the chromossome"
   ]
  },
  {
   "cell_type": "code",
   "execution_count": 150,
   "id": "e210a1df-4d86-4d93-b74b-baab027aaada",
   "metadata": {},
   "outputs": [],
   "source": [
    "MAX_NOTE = 81\n",
    "MIN_NOTE = 60"
   ]
  },
  {
   "cell_type": "code",
   "execution_count": 151,
   "id": "0b051246-d497-4ace-8f82-c881097664ed",
   "metadata": {},
   "outputs": [
    {
     "data": {
      "text/plain": [
       "[59, 71]"
      ]
     },
     "execution_count": 151,
     "metadata": {},
     "output_type": "execute_result"
    }
   ],
   "source": [
    "list(range(MIN_NOTE-1, MAX_NOTE, 12))"
   ]
  },
  {
   "cell_type": "code",
   "execution_count": 164,
   "id": "ebf1e275-6dd8-4a54-9c6c-e9c3687d6606",
   "metadata": {},
   "outputs": [],
   "source": [
    "def get_random_pitch():\n",
    "    pitch_base = list(range(MIN_NOTE-1, MAX_NOTE, 12))\n",
    "    n = random.choice(range(len(pitch_base)))\n",
    "    return pitch_base[n]"
   ]
  },
  {
   "cell_type": "code",
   "execution_count": 165,
   "id": "c5235ca5-ec42-4b26-a920-301c5ea322a2",
   "metadata": {},
   "outputs": [],
   "source": [
    "def generate_random_note():\n",
    "    pitch = get_random_pitch()\n",
    "    notes = [1, 3, 5, 6, 8, 10, 12] #notes in C-major scale\n",
    "    note = random.choice(notes) + pitch\n",
    "    return note"
   ]
  },
  {
   "cell_type": "code",
   "execution_count": 166,
   "id": "aa0c55ca-450d-4832-8ce5-b4fbce60f8e6",
   "metadata": {},
   "outputs": [],
   "source": [
    "def generate_random_duration():\n",
    "    #base = generate_random_note()\n",
    "    #chord = [base, base+4, base+7]\n",
    "    duration = random.choice(range(1, 8+1))\n",
    "    return duration#, chord"
   ]
  },
  {
   "cell_type": "code",
   "execution_count": 206,
   "id": "b68c9b2a-b519-40dc-8abb-c7900df4fd3e",
   "metadata": {},
   "outputs": [],
   "source": [
    "def generate_random_genome():\n",
    "    N = 5\n",
    "    probs = [\n",
    "        np.array([0.4,   #P(mutation)\n",
    "                  0.2,   #P(crossover) \n",
    "                  0.2,   #P(inverse)\n",
    "                  0.2]), #P(duplication) \n",
    "        np.full(shape=11, fill_value=1/11)  # P(m_i|Mutation)\n",
    "            ]\n",
    "    genome = [*probs]\n",
    "    for _ in range(N):\n",
    "        duration = generate_random_duration()\n",
    "        melody_note = generate_random_note()\n",
    "        genome.append( (duration, melody_note) )\n",
    "    \n",
    "    return genome"
   ]
  },
  {
   "cell_type": "code",
   "execution_count": 208,
   "id": "da8dd0b5-c8cf-48f5-ab32-84b0a0f0aa63",
   "metadata": {},
   "outputs": [],
   "source": [
    "def split_genome(gen):\n",
    "    return gen[0], gen[1], gen[2:]"
   ]
  },
  {
   "cell_type": "code",
   "execution_count": 209,
   "id": "6580acdb-579e-4382-8fd5-a943f6e908f5",
   "metadata": {},
   "outputs": [],
   "source": [
    "def get_phenotype(genome):\n",
    "    midi_file = MIDIFile(2)\n",
    "    melody=0\n",
    "    \n",
    "    tempo = 120\n",
    "    midi_file.addTempo(melody, 0, tempo)\n",
    "    midi_file.addTempo(1,0,tempo)\n",
    "    \n",
    "    cum_time = 0\n",
    "    \n",
    "    prob_op, prob_mut, notes = split_genome(genome)\n",
    "    for el in notes:\n",
    "        d, note= el\n",
    "        midi_file.addNote(melody, 0, note, cum_time, d/2, 100)\n",
    "        \n",
    "        cum_time+=d/2\n",
    "    save_harmony(midi_file, \"\")\n",
    "    return midi_file"
   ]
  },
  {
   "cell_type": "code",
   "execution_count": 210,
   "id": "f2eac379-4ad9-4b1e-a33f-806b6087dd1c",
   "metadata": {},
   "outputs": [
    {
     "data": {
      "text/plain": [
       "[array([0.4, 0.2, 0.2, 0.2]),\n",
       " array([0.09090909, 0.09090909, 0.09090909, 0.09090909, 0.09090909,\n",
       "        0.09090909, 0.09090909, 0.09090909, 0.09090909, 0.09090909,\n",
       "        0.09090909]),\n",
       " (3, 69),\n",
       " (5, 81),\n",
       " (3, 64),\n",
       " (4, 77),\n",
       " (4, 71)]"
      ]
     },
     "execution_count": 210,
     "metadata": {},
     "output_type": "execute_result"
    }
   ],
   "source": [
    "gen = generate_random_genome()\n",
    "gen"
   ]
  },
  {
   "cell_type": "code",
   "execution_count": 145,
   "id": "0f343582-92c7-4357-9678-003c0c15fa61",
   "metadata": {},
   "outputs": [
    {
     "data": {
      "text/plain": [
       "[(0.4, 0.2, 0.2, 0.2),\n",
       " (2, [29, 33, 36], 74),\n",
       " (1.0, [29, 33, 36], 76),\n",
       " (1.0, [29, 33, 36], 77),\n",
       " (1.0, [29, 33, 36], 79),\n",
       " (1.0, [29, 33, 36], 81),\n",
       " (1.0, [29, 33, 36], 83),\n",
       " (1.0, [29, 33, 36], 84),\n",
       " (1.0, [29, 33, 36], 86),\n",
       " (6, [28, 32, 35], 88),\n",
       " (5, [41, 45, 48], 52),\n",
       " (2, [62, 66, 69], 69),\n",
       " (6, [55, 59, 62], 41)]"
      ]
     },
     "execution_count": 145,
     "metadata": {},
     "output_type": "execute_result"
    }
   ],
   "source": [
    "gen_2=passing_tone(gen)\n",
    "gen_2"
   ]
  },
  {
   "cell_type": "code",
   "execution_count": 175,
   "id": "10d0f7e2-b955-4bcf-85c9-6ba3262d9633",
   "metadata": {},
   "outputs": [],
   "source": [
    "mf = get_phenotype(gen)"
   ]
  },
  {
   "cell_type": "markdown",
   "id": "bb6d13b3-e166-45b7-bed9-a71ef9ba0ef4",
   "metadata": {},
   "source": [
    "## Selection Method"
   ]
  },
  {
   "cell_type": "code",
   "execution_count": 260,
   "id": "4f54895f-50fa-4067-a9af-1d49131d40e3",
   "metadata": {},
   "outputs": [
    {
     "data": {
      "text/plain": [
       "0.5"
      ]
     },
     "execution_count": 260,
     "metadata": {},
     "output_type": "execute_result"
    }
   ],
   "source": [
    "5*0.1"
   ]
  },
  {
   "cell_type": "code",
   "execution_count": 299,
   "id": "38c0b649-3164-4dac-9cd4-db8b7f661713",
   "metadata": {},
   "outputs": [],
   "source": [
    "fitness = lambda g: rand(0,5)"
   ]
  },
  {
   "cell_type": "code",
   "execution_count": 261,
   "id": "479ee356-0010-42cf-8580-c73566953e36",
   "metadata": {},
   "outputs": [],
   "source": [
    "def truncate(population_fitness, N):\n",
    "    to_remove = max(N//10, 1)\n",
    "    population_fitness = population_fitness[:-to_remove]\n",
    "    \n",
    "    return population_fitness"
   ]
  },
  {
   "cell_type": "code",
   "execution_count": 348,
   "id": "f0df5c25-c371-4a41-a2b1-0d6e53a8aace",
   "metadata": {},
   "outputs": [],
   "source": [
    "def elitism(population_fitness: list, N: int) -> list:\n",
    "    to_keep = max(N//10, 1)\n",
    "    new_population = population_fitness[:to_keep]\n",
    "    \n",
    "    return list(map(lambda x: x[0], new_population))"
   ]
  },
  {
   "cell_type": "code",
   "execution_count": 384,
   "id": "94a784db-326b-4f64-979e-7a55197abe46",
   "metadata": {},
   "outputs": [],
   "source": [
    "def tournament(population_fitness, k):    \n",
    "    indexes = [i for i in range(len(population_fitness))]\n",
    "    \n",
    "    selected_indexes = list(np.random.choice(\n",
    "        indexes, \n",
    "        size=k, \n",
    "        replace=False\n",
    "    ))\n",
    "    population_fitness_subset = [ population_fitness[i] for i in selected_indexes]\n",
    "    population_fitness_subset.sort(key = lambda x: x[1])    \n",
    "    genome_selected = population_fitness_subset[0]\n",
    "    return genome_selected[0]"
   ]
  },
  {
   "cell_type": "code",
   "execution_count": null,
   "id": "e0688b23-a6c9-4857-9e9a-062b4317c573",
   "metadata": {},
   "outputs": [],
   "source": [
    "population = [ generate_random_genome() for _ in range(20)]"
   ]
  },
  {
   "cell_type": "code",
   "execution_count": 397,
   "id": "f391065d-6ccb-43e3-9895-058b04b8767c",
   "metadata": {},
   "outputs": [],
   "source": [
    "def selection(population):\n",
    "    N = len(population)\n",
    "    \n",
    "    population_fitness = list(map(lambda gen: (gen, fitness(gen)), population))\n",
    "    population_fitness.sort(key = lambda x: x[1])\n",
    "    population_fitness = truncate(population_fitness, N)\n",
    "    \n",
    "    new_population = elitism(population_fitness, N)\n",
    "    \n",
    "    k_left = N - len(new_population)\n",
    "    while len(new_population) < N:\n",
    "        genome = tournament(population_fitness, 2)\n",
    "        \n",
    "        probs_op, probs_mut, notes = split_genome(genome)\n",
    "        operator = select_operator(genome, population_fitness, k_left)\n",
    "        new_genomes = operator(genome, population_fitness, N) \n",
    "        \n",
    "        for genome in new_genomes:\n",
    "            new_population.append(genome)\n",
    "            k_left-=1\n",
    "    return new_population"
   ]
  },
  {
   "cell_type": "code",
   "execution_count": 398,
   "id": "c90622b2-7e50-4519-b42c-f41febe87a8a",
   "metadata": {},
   "outputs": [
    {
     "data": {
      "text/plain": [
       "[[array([0.4, 0.2, 0.2, 0.2]),\n",
       "  array([0.09090909, 0.09090909, 0.09090909, 0.09090909, 0.09090909,\n",
       "         0.09090909, 0.09090909, 0.09090909, 0.09090909, 0.09090909,\n",
       "         0.09090909]),\n",
       "  (3, 60),\n",
       "  (5, 64),\n",
       "  (1, 69),\n",
       "  (4, 64),\n",
       "  (6, 62)],\n",
       " [array([0.4, 0.2, 0.2, 0.2]),\n",
       "  array([0.09090909, 0.09090909, 0.09090909, 0.09090909, 0.09090909,\n",
       "         0.09090909, 0.09090909, 0.09090909, 0.09090909, 0.09090909,\n",
       "         0.09090909]),\n",
       "  (1, 71),\n",
       "  (1, 67),\n",
       "  (7, 69),\n",
       "  (1, 62),\n",
       "  (5, 62)],\n",
       " [array([0.4, 0.2, 0.2, 0.2]),\n",
       "  array([0.09090909, 0.09090909, 0.09090909, 0.09090909, 0.09090909,\n",
       "         0.09090909, 0.09090909, 0.09090909, 0.09090909, 0.09090909,\n",
       "         0.09090909]),\n",
       "  (7, 83),\n",
       "  (2, 79),\n",
       "  (3, 72),\n",
       "  (8, 62),\n",
       "  (4, 65)],\n",
       " [array([0.4, 0.2, 0.2, 0.2]),\n",
       "  array([0.09090909, 0.09090909, 0.09090909, 0.09090909, 0.09090909,\n",
       "         0.09090909, 0.09090909, 0.09090909, 0.09090909, 0.09090909,\n",
       "         0.09090909]),\n",
       "  (5, 81),\n",
       "  (2, 71),\n",
       "  (3, 79),\n",
       "  (3, 64),\n",
       "  (1, 69),\n",
       "  (4, 64),\n",
       "  (6, 62)],\n",
       " [array([0.4, 0.2, 0.2, 0.2]),\n",
       "  array([0.09090909, 0.09090909, 0.09090909, 0.09090909, 0.09090909,\n",
       "         0.09090909, 0.09090909, 0.09090909, 0.09090909, 0.09090909,\n",
       "         0.09090909]),\n",
       "  (3, 60),\n",
       "  (2, 64),\n",
       "  (5, 81),\n",
       "  (2, 71),\n",
       "  (3, 79)],\n",
       " [array([0.4, 0.2, 0.2, 0.2]),\n",
       "  array([0.09090909, 0.09090909, 0.09090909, 0.09090909, 0.09090909,\n",
       "         0.09090909, 0.09090909, 0.09090909, 0.09090909, 0.09090909,\n",
       "         0.09090909]),\n",
       "  (1, 79),\n",
       "  (3, 76),\n",
       "  (6, 81),\n",
       "  (2, 64)],\n",
       " [array([0.4, 0.2, 0.2, 0.2]),\n",
       "  array([0.09090909, 0.09090909, 0.09090909, 0.09090909, 0.09090909,\n",
       "         0.09090909, 0.09090909, 0.09090909, 0.09090909, 0.09090909,\n",
       "         0.09090909]),\n",
       "  (8, 62),\n",
       "  (3, 72),\n",
       "  (2, 62),\n",
       "  (7, 83),\n",
       "  (4, 65)],\n",
       " [array([0.4, 0.2, 0.2, 0.2]),\n",
       "  array([0.09090909, 0.09090909, 0.09090909, 0.09090909, 0.09090909,\n",
       "         0.09090909, 0.09090909, 0.09090909, 0.09090909, 0.09090909,\n",
       "         0.09090909]),\n",
       "  (4, 74),\n",
       "  (8, 71),\n",
       "  (1, 77),\n",
       "  (6, 81),\n",
       "  (1, 62)],\n",
       " [array([0.4, 0.2, 0.2, 0.2]),\n",
       "  array([0.09090909, 0.09090909, 0.09090909, 0.09090909, 0.09090909,\n",
       "         0.09090909, 0.09090909, 0.09090909, 0.09090909, 0.09090909,\n",
       "         0.09090909]),\n",
       "  (8, 62),\n",
       "  (3, 72),\n",
       "  (2, 79),\n",
       "  (7, 83),\n",
       "  (7, 83),\n",
       "  (4, 65)],\n",
       " [array([0.4, 0.2, 0.2, 0.2]),\n",
       "  array([0.09090909, 0.09090909, 0.09090909, 0.09090909, 0.09090909,\n",
       "         0.09090909, 0.09090909, 0.09090909, 0.09090909, 0.09090909,\n",
       "         0.09090909]),\n",
       "  (4, 71),\n",
       "  (6, 69),\n",
       "  (5, 77),\n",
       "  (6, 67),\n",
       "  (0.5, 67),\n",
       "  (0.5, 67)],\n",
       " [array([0.4, 0.2, 0.2, 0.2]),\n",
       "  array([0.09090909, 0.09090909, 0.09090909, 0.09090909, 0.09090909,\n",
       "         0.09090909, 0.09090909, 0.09090909, 0.09090909, 0.09090909,\n",
       "         0.09090909]),\n",
       "  (3, 60),\n",
       "  (5, 64),\n",
       "  (1, 69),\n",
       "  (4, 79),\n",
       "  (6, 62)],\n",
       " [array([0.4, 0.2, 0.2, 0.2]),\n",
       "  array([0.09090909, 0.09090909, 0.09090909, 0.09090909, 0.09090909,\n",
       "         0.09090909, 0.09090909, 0.09090909, 0.09090909, 0.09090909,\n",
       "         0.09090909]),\n",
       "  (1, 79),\n",
       "  (7, 72),\n",
       "  (3, 76),\n",
       "  (6, 81),\n",
       "  (2, 64)],\n",
       " [array([0.4, 0.2, 0.2, 0.2]),\n",
       "  array([0.09090909, 0.09090909, 0.09090909, 0.09090909, 0.09090909,\n",
       "         0.09090909, 0.09090909, 0.09090909, 0.09090909, 0.09090909,\n",
       "         0.09090909]),\n",
       "  (1, 83),\n",
       "  (5, 79),\n",
       "  (5, 79),\n",
       "  (7, 71),\n",
       "  (8, 72),\n",
       "  (4, 83)],\n",
       " [array([0.4, 0.2, 0.2, 0.2]),\n",
       "  array([0.09090909, 0.09090909, 0.09090909, 0.09090909, 0.09090909,\n",
       "         0.09090909, 0.09090909, 0.09090909, 0.09090909, 0.09090909,\n",
       "         0.09090909]),\n",
       "  (3, 60),\n",
       "  (5, 64),\n",
       "  (1, 69),\n",
       "  (2, 64),\n",
       "  (5, 83),\n",
       "  (4, 65)],\n",
       " [array([0.4, 0.2, 0.2, 0.2]),\n",
       "  array([0.09090909, 0.09090909, 0.09090909, 0.09090909, 0.09090909,\n",
       "         0.09090909, 0.09090909, 0.09090909, 0.09090909, 0.09090909,\n",
       "         0.09090909]),\n",
       "  (8, 62),\n",
       "  (3, 72),\n",
       "  (2, 79),\n",
       "  (2, 83),\n",
       "  (3, 60),\n",
       "  (5, 64),\n",
       "  (1, 69),\n",
       "  (2, 64)],\n",
       " [array([0.4, 0.2, 0.2, 0.2]),\n",
       "  array([0.09090909, 0.09090909, 0.09090909, 0.09090909, 0.09090909,\n",
       "         0.09090909, 0.09090909, 0.09090909, 0.09090909, 0.09090909,\n",
       "         0.09090909]),\n",
       "  (1, 79),\n",
       "  (7, 72),\n",
       "  (3, 76),\n",
       "  (6, 81),\n",
       "  (1.5, 64),\n",
       "  (0.5, 64)],\n",
       " [array([0.4, 0.2, 0.2, 0.2]),\n",
       "  array([0.09090909, 0.09090909, 0.09090909, 0.09090909, 0.09090909,\n",
       "         0.09090909, 0.09090909, 0.09090909, 0.09090909, 0.09090909,\n",
       "         0.09090909]),\n",
       "  (5, 81),\n",
       "  (2, 71),\n",
       "  (7, 79),\n",
       "  (0.5, 81),\n",
       "  (1, 83),\n",
       "  (3, 60)],\n",
       " [array([0.4, 0.2, 0.2, 0.2]),\n",
       "  array([0.09090909, 0.09090909, 0.09090909, 0.09090909, 0.09090909,\n",
       "         0.09090909, 0.09090909, 0.09090909, 0.09090909, 0.09090909,\n",
       "         0.09090909]),\n",
       "  (4, 71),\n",
       "  (6, 69),\n",
       "  (6, 69),\n",
       "  (5, 77),\n",
       "  (6, 67),\n",
       "  (1, 67)],\n",
       " [array([0.4, 0.2, 0.2, 0.2]),\n",
       "  array([0.09090909, 0.09090909, 0.09090909, 0.09090909, 0.09090909,\n",
       "         0.09090909, 0.09090909, 0.09090909, 0.09090909, 0.09090909,\n",
       "         0.09090909]),\n",
       "  (3, 64),\n",
       "  (7, 71),\n",
       "  (6, 65),\n",
       "  (5, 60),\n",
       "  (3, 65)],\n",
       " [array([0.4, 0.2, 0.2, 0.2]),\n",
       "  array([0.09090909, 0.09090909, 0.09090909, 0.09090909, 0.09090909,\n",
       "         0.09090909, 0.09090909, 0.09090909, 0.09090909, 0.09090909,\n",
       "         0.09090909]),\n",
       "  (6, 65),\n",
       "  (1, 71),\n",
       "  (6, 71),\n",
       "  (2, 60),\n",
       "  (6, 76),\n",
       "  (6, 80)]]"
      ]
     },
     "execution_count": 398,
     "metadata": {},
     "output_type": "execute_result"
    }
   ],
   "source": [
    "selection(population)"
   ]
  },
  {
   "cell_type": "code",
   "execution_count": 400,
   "id": "a5f615a1-af9d-4393-aa0b-bcf29b05874c",
   "metadata": {},
   "outputs": [
    {
     "data": {
      "text/plain": [
       "<midiutil.MidiFile.MIDIFile at 0x2b4a8fb8490>"
      ]
     },
     "execution_count": 400,
     "metadata": {},
     "output_type": "execute_result"
    }
   ],
   "source": [
    "get_phenotype(population[-11])"
   ]
  },
  {
   "cell_type": "code",
   "execution_count": 379,
   "id": "fbaf693b-ea11-47b0-af78-081c5dfd8483",
   "metadata": {},
   "outputs": [],
   "source": [
    "gen = generate_random_genome()"
   ]
  },
  {
   "cell_type": "markdown",
   "id": "eaa50beb-ec1f-46a2-9782-821261763908",
   "metadata": {
    "tags": []
   },
   "source": [
    "## Operators"
   ]
  },
  {
   "cell_type": "code",
   "execution_count": 395,
   "id": "2053bb27-60c7-4fab-81a7-7c2b0a117c01",
   "metadata": {},
   "outputs": [],
   "source": [
    "def select_operator(genome, population_fitness, k_left):\n",
    "    prob_op, prob_mut, notes = split_genome(genome)\n",
    "    if k_left>=2:\n",
    "        operator_index = np.random.choice( range(4), size=1, p=prob_op )[0]\n",
    "    else:\n",
    "        available = [0, 2, 3]\n",
    "        temp_prob = prob_op[available]\n",
    "        temp_prob /= temp_prob.sum()\n",
    "        operator_index = np.random.choice( available, size=1, p=temp_prob)[0]\n",
    "        \n",
    "    operators = [ mutation, crossover, duplication, inversion ]\n",
    "    return operators[ operator_index ]"
   ]
  },
  {
   "cell_type": "code",
   "execution_count": 255,
   "id": "44fad134-f2ae-4810-9d06-d81198784965",
   "metadata": {},
   "outputs": [
    {
     "data": {
      "text/plain": [
       "[array([0.39045189, 0.14255212, 0.18181104, 0.28518495]),\n",
       " array([0.03640833, 0.00605717, 0.06913054, 0.2475582 , 0.07673454,\n",
       "        0.09387541, 0.08775609, 0.08151578, 0.13514298, 0.08694019,\n",
       "        0.07888077]),\n",
       " (3, 69),\n",
       " (5, 81),\n",
       " (3, 64),\n",
       " (4, 77),\n",
       " (4, 71)]"
      ]
     },
     "execution_count": 255,
     "metadata": {},
     "output_type": "execute_result"
    }
   ],
   "source": [
    "operation(gen)"
   ]
  },
  {
   "cell_type": "markdown",
   "id": "ad94339a-e232-4dab-921b-9e28f8d39643",
   "metadata": {
    "jp-MarkdownHeadingCollapsed": true,
    "tags": []
   },
   "source": [
    "## Methods Regarding Mutation"
   ]
  },
  {
   "cell_type": "code",
   "execution_count": 211,
   "id": "5aacc6fb-dc6c-4e36-bce6-0f05b4b19963",
   "metadata": {},
   "outputs": [],
   "source": [
    "def repeat(genome):\n",
    "    prob_op, prob_mut, notes = split_genome(genome)\n",
    "    n = random.choice(range(len(notes)))\n",
    "    \n",
    "    notes.insert(n, notes[n])\n",
    "    genome = [prob_op, prob_mut, *notes]\n",
    "    return genome"
   ]
  },
  {
   "cell_type": "code",
   "execution_count": 212,
   "id": "73806ff8-4489-4986-a2e6-c5580c490d12",
   "metadata": {},
   "outputs": [
    {
     "data": {
      "text/plain": [
       "[array([0.4, 0.2, 0.2, 0.2]),\n",
       " array([0.09090909, 0.09090909, 0.09090909, 0.09090909, 0.09090909,\n",
       "        0.09090909, 0.09090909, 0.09090909, 0.09090909, 0.09090909,\n",
       "        0.09090909]),\n",
       " (3, 69),\n",
       " (5, 81),\n",
       " (3, 64),\n",
       " (4, 77),\n",
       " (4, 71),\n",
       " (4, 71)]"
      ]
     },
     "execution_count": 212,
     "metadata": {},
     "output_type": "execute_result"
    }
   ],
   "source": [
    "repeat(gen)"
   ]
  },
  {
   "cell_type": "code",
   "execution_count": 217,
   "id": "42a118d8-f62a-4b18-91a3-3d457be17d1b",
   "metadata": {},
   "outputs": [],
   "source": [
    "def split(genome):\n",
    "    prob_op, prob_mut, notes = split_genome(genome)\n",
    "    n = random.choice(range(len(notes)))\n",
    "    \n",
    "    duration, note = notes[n]\n",
    "    new_duration = duration/2\n",
    "    \n",
    "    new_note = (new_duration, note)\n",
    "    notes[n] = new_note\n",
    "    notes.insert(n, new_note)\n",
    "    \n",
    "    genome = [prob_op, prob_mut, *notes]\n",
    "    return genome"
   ]
  },
  {
   "cell_type": "code",
   "execution_count": 218,
   "id": "f989d467-64fc-4926-b96e-74d800f16827",
   "metadata": {},
   "outputs": [
    {
     "data": {
      "text/plain": [
       "[array([0.4, 0.2, 0.2, 0.2]),\n",
       " array([0.09090909, 0.09090909, 0.09090909, 0.09090909, 0.09090909,\n",
       "        0.09090909, 0.09090909, 0.09090909, 0.09090909, 0.09090909,\n",
       "        0.09090909]),\n",
       " (3, 69),\n",
       " (5, 81),\n",
       " (3, 64),\n",
       " (2.0, 77),\n",
       " (2.0, 77),\n",
       " (4, 71)]"
      ]
     },
     "execution_count": 218,
     "metadata": {},
     "output_type": "execute_result"
    }
   ],
   "source": [
    "split(gen)"
   ]
  },
  {
   "cell_type": "code",
   "execution_count": 219,
   "id": "7419f923-59fe-4855-8acf-546643374e0f",
   "metadata": {},
   "outputs": [],
   "source": [
    "def arpeggiate(genome):\n",
    "    prob_op, prob_mut, notes = split_genome(genome)\n",
    "    n = random.choice(range(len(notes)))\n",
    "    \n",
    "    duration, note = notes[n]\n",
    "    pitch_incr = random.choice([4,7])\n",
    "    \n",
    "    new_pitch = min(MAX_NOTE, note+pitch_incr)\n",
    "    new_note = (duration, new_pitch)\n",
    "    \n",
    "    notes.insert(n+1, new_note)\n",
    "    \n",
    "    genome = [prob_op, prob_mut, *notes]\n",
    "    return genome"
   ]
  },
  {
   "cell_type": "code",
   "execution_count": 220,
   "id": "4369b644-c97f-42f4-a288-0312d0b9e4cb",
   "metadata": {},
   "outputs": [
    {
     "data": {
      "text/plain": [
       "[array([0.4, 0.2, 0.2, 0.2]),\n",
       " array([0.09090909, 0.09090909, 0.09090909, 0.09090909, 0.09090909,\n",
       "        0.09090909, 0.09090909, 0.09090909, 0.09090909, 0.09090909,\n",
       "        0.09090909]),\n",
       " (3, 69),\n",
       " (5, 81),\n",
       " (3, 64),\n",
       " (3, 68),\n",
       " (4, 77),\n",
       " (4, 71)]"
      ]
     },
     "execution_count": 220,
     "metadata": {},
     "output_type": "execute_result"
    }
   ],
   "source": [
    "arpeggiate(gen)"
   ]
  },
  {
   "cell_type": "code",
   "execution_count": 221,
   "id": "c37ef643-8dac-4f10-a2de-a8d2fedc4389",
   "metadata": {
    "tags": []
   },
   "outputs": [],
   "source": [
    "def leap(genome):\n",
    "    prob_op, prob_mut, notes = split_genome(genome)\n",
    "    n = random.choice(range(len(notes)))\n",
    "    \n",
    "    duration, note = notes[n]\n",
    "    while (new:=generate_random_note())==note: continue\n",
    "    \n",
    "    new_note = (duration, new)\n",
    "    notes[n] = new_note\n",
    "    \n",
    "    genome = [prob_op, prob_mut, *notes]\n",
    "    return genome"
   ]
  },
  {
   "cell_type": "code",
   "execution_count": 222,
   "id": "5ec53475-69d8-468c-b9f4-d469426ea758",
   "metadata": {},
   "outputs": [
    {
     "data": {
      "text/plain": [
       "[array([0.4, 0.2, 0.2, 0.2]),\n",
       " array([0.09090909, 0.09090909, 0.09090909, 0.09090909, 0.09090909,\n",
       "        0.09090909, 0.09090909, 0.09090909, 0.09090909, 0.09090909,\n",
       "        0.09090909]),\n",
       " (3, 69),\n",
       " (5, 81),\n",
       " (3, 64),\n",
       " (4, 69),\n",
       " (4, 71)]"
      ]
     },
     "execution_count": 222,
     "metadata": {},
     "output_type": "execute_result"
    }
   ],
   "source": [
    "leap(gen)"
   ]
  },
  {
   "cell_type": "code",
   "execution_count": 223,
   "id": "b6ba5d98-d6b6-4a3e-91ce-c0dd2bed54ab",
   "metadata": {},
   "outputs": [],
   "source": [
    "def get_pairs(notes):\n",
    "    is_consecutive = []\n",
    "    for i in range(len(notes)-1):\n",
    "        d_a, note_a = notes[i]\n",
    "        d_b, note_b = notes[i+1]\n",
    "        \n",
    "        if note_a==note_b:\n",
    "            is_consecutive.append(i+1)\n",
    "    return is_consecutive"
   ]
  },
  {
   "cell_type": "code",
   "execution_count": 224,
   "id": "b6e42b49-a493-47d0-a446-86b8caa1fc8d",
   "metadata": {},
   "outputs": [],
   "source": [
    "def diatonic_upper_step_size(note):\n",
    "    if note%12 in (0, 2, 5, 7, 9):\n",
    "        return 2\n",
    "    return 1"
   ]
  },
  {
   "cell_type": "code",
   "execution_count": 225,
   "id": "fc18029b-fc94-4901-88e7-d512e6eb2daa",
   "metadata": {},
   "outputs": [],
   "source": [
    "def diatonic_lower_step_size(note):\n",
    "    if note%12 in (0, 5):\n",
    "        return 1\n",
    "    return 2"
   ]
  },
  {
   "cell_type": "code",
   "execution_count": 226,
   "id": "510f0ac5-2f8d-4ea7-97a4-23e701d0a99d",
   "metadata": {},
   "outputs": [],
   "source": [
    "def upper_neighbor(genome):\n",
    "    prob_op, prob_mut, notes = split_genome(genome)\n",
    "    \n",
    "    is_consecutive = get_pairs(notes)\n",
    "    if len(is_consecutive)==0:\n",
    "        return genome\n",
    "    \n",
    "    n = random.choice(is_consecutive)\n",
    "    d, note = notes[n]\n",
    "    \n",
    "    step = diatonic_upper_step_size(note)\n",
    "    note = min(MAX_NOTE, note+step)\n",
    "    \n",
    "    notes[n] = (d, note)\n",
    "    genome = [prob_op, prob_mut, *notes]\n",
    "    return genome   "
   ]
  },
  {
   "cell_type": "code",
   "execution_count": 228,
   "id": "bde7a8a8-4754-4070-94d5-fc449d1ce3a4",
   "metadata": {},
   "outputs": [
    {
     "data": {
      "text/plain": [
       "[array([0.4, 0.2, 0.2, 0.2]),\n",
       " array([0.09090909, 0.09090909, 0.09090909, 0.09090909, 0.09090909,\n",
       "        0.09090909, 0.09090909, 0.09090909, 0.09090909, 0.09090909,\n",
       "        0.09090909]),\n",
       " (3, 69),\n",
       " (5, 81),\n",
       " (3, 64),\n",
       " (4, 77),\n",
       " (4, 71)]"
      ]
     },
     "execution_count": 228,
     "metadata": {},
     "output_type": "execute_result"
    }
   ],
   "source": [
    "upper_neighbor(gen)"
   ]
  },
  {
   "cell_type": "code",
   "execution_count": 227,
   "id": "e88b8883-f443-44e5-af55-8b934f0f2218",
   "metadata": {},
   "outputs": [],
   "source": [
    "def lower_neighbor(genome):\n",
    "    prob_op, prob_mut, notes = split_genome(genome)\n",
    "\n",
    "    is_consecutive = get_pairs(notes)\n",
    "    if len(is_consecutive)==0:\n",
    "        return genome\n",
    "    \n",
    "    n = random.choice(is_consecutive)\n",
    "    d, note = notes[n]\n",
    "    \n",
    "    step = diatonic_lower_step_size(note)\n",
    "    note = max(MIN_NOTE, note - step)\n",
    "    \n",
    "    notes[n] = (d, note)\n",
    "    genome = [prob_op, prob_mut, *notes]\n",
    "    return genome"
   ]
  },
  {
   "cell_type": "code",
   "execution_count": 229,
   "id": "772c2384-f984-4251-a513-60085d414a11",
   "metadata": {},
   "outputs": [
    {
     "data": {
      "text/plain": [
       "[array([0.4, 0.2, 0.2, 0.2]),\n",
       " array([0.09090909, 0.09090909, 0.09090909, 0.09090909, 0.09090909,\n",
       "        0.09090909, 0.09090909, 0.09090909, 0.09090909, 0.09090909,\n",
       "        0.09090909]),\n",
       " (3, 69),\n",
       " (5, 81),\n",
       " (3, 64),\n",
       " (4, 77),\n",
       " (4, 71)]"
      ]
     },
     "execution_count": 229,
     "metadata": {},
     "output_type": "execute_result"
    }
   ],
   "source": [
    "lower_neighbor(gen)"
   ]
  },
  {
   "cell_type": "code",
   "execution_count": 230,
   "id": "091959b9-ee36-4cc1-a38f-fc197b83f438",
   "metadata": {},
   "outputs": [],
   "source": [
    "def anticipation(genome):\n",
    "    prob_op, prob_mut, notes = split_genome(genome)\n",
    "    n = random.choice(range(len(notes)))\n",
    "    \n",
    "    duration, note = notes[n]\n",
    "    \n",
    "    notes[n] = (duration * 0.25, note)\n",
    "    notes.insert(n+1, (duration * 0.75, note))\n",
    "    \n",
    "    genome = [prob_op, prob_mut, *notes]\n",
    "    return genome"
   ]
  },
  {
   "cell_type": "code",
   "execution_count": 231,
   "id": "6fb6b9d6-9313-468c-bc5c-42174b6f320f",
   "metadata": {},
   "outputs": [
    {
     "data": {
      "text/plain": [
       "[array([0.4, 0.2, 0.2, 0.2]),\n",
       " array([0.09090909, 0.09090909, 0.09090909, 0.09090909, 0.09090909,\n",
       "        0.09090909, 0.09090909, 0.09090909, 0.09090909, 0.09090909,\n",
       "        0.09090909]),\n",
       " (3, 69),\n",
       " (5, 81),\n",
       " (0.75, 64),\n",
       " (2.25, 64),\n",
       " (4, 77),\n",
       " (4, 71)]"
      ]
     },
     "execution_count": 231,
     "metadata": {},
     "output_type": "execute_result"
    }
   ],
   "source": [
    "anticipation(gen)"
   ]
  },
  {
   "cell_type": "code",
   "execution_count": 232,
   "id": "b05299e5-20ed-49f4-abb7-e790d145389f",
   "metadata": {},
   "outputs": [],
   "source": [
    "def delay(genome):\n",
    "    prob_op, prob_mut, notes = split_genome(genome)\n",
    "    n = random.choice(range(len(notes)))\n",
    "    \n",
    "    duration, note = notes[n]\n",
    "    \n",
    "    notes[n] = (duration * 0.75, note)\n",
    "    notes.insert(n+1, (duration * 0.25, note))\n",
    "    \n",
    "    genome = [prob_op, prob_mut, *notes]\n",
    "    return genome"
   ]
  },
  {
   "cell_type": "code",
   "execution_count": 233,
   "id": "3dbcdc3c-d121-430f-a306-5fff1b041615",
   "metadata": {},
   "outputs": [
    {
     "data": {
      "text/plain": [
       "[array([0.4, 0.2, 0.2, 0.2]),\n",
       " array([0.09090909, 0.09090909, 0.09090909, 0.09090909, 0.09090909,\n",
       "        0.09090909, 0.09090909, 0.09090909, 0.09090909, 0.09090909,\n",
       "        0.09090909]),\n",
       " (3, 69),\n",
       " (3.75, 81),\n",
       " (1.25, 81),\n",
       " (3, 64),\n",
       " (4, 77),\n",
       " (4, 71)]"
      ]
     },
     "execution_count": 233,
     "metadata": {},
     "output_type": "execute_result"
    }
   ],
   "source": [
    "delay(gen)"
   ]
  },
  {
   "cell_type": "code",
   "execution_count": 234,
   "id": "93da279c-b7a9-465a-85f5-a07c43c3521a",
   "metadata": {},
   "outputs": [],
   "source": [
    "def passing_tone(genome):\n",
    "    prob_op, prob_mut, notes = split_genome(genome)\n",
    "    n = random.choice( range( len( notes ) - 1 ) )\n",
    "    \n",
    "    d, note = notes[n]\n",
    "    d_b, note_b = notes[n+1]\n",
    "    \n",
    "    d = min(d, d_b)/2\n",
    "    if note>note_b:   \n",
    "        new_notes = []\n",
    "        while note - ( step := diatonic_lower_step_size(note) ) > note_b:\n",
    "            note -= step\n",
    "            new = (d, note)\n",
    "            new_notes.append(new)\n",
    "        notes = notes[:n+1] + new_notes + notes[n+1:]\n",
    "        \n",
    "    if note<note_b:\n",
    "        new_notes = []\n",
    "        while note + ( step := diatonic_upper_step_size(note) ) < note_b:\n",
    "            note += step\n",
    "            new = (d, note)\n",
    "            new_notes.append(new)\n",
    "        notes = notes[:n+1] + new_notes + notes[n+1:]\n",
    "    genome = [prob_op, prob_mut, *notes]\n",
    "    return genome    "
   ]
  },
  {
   "cell_type": "code",
   "execution_count": 235,
   "id": "5347c74f-6a41-43b7-a6ed-144f47ef48a8",
   "metadata": {},
   "outputs": [
    {
     "data": {
      "text/plain": [
       "[array([0.4, 0.2, 0.2, 0.2]),\n",
       " array([0.09090909, 0.09090909, 0.09090909, 0.09090909, 0.09090909,\n",
       "        0.09090909, 0.09090909, 0.09090909, 0.09090909, 0.09090909,\n",
       "        0.09090909]),\n",
       " (3, 69),\n",
       " (1.5, 71),\n",
       " (1.5, 72),\n",
       " (1.5, 74),\n",
       " (1.5, 76),\n",
       " (1.5, 77),\n",
       " (1.5, 79),\n",
       " (5, 81),\n",
       " (3, 64),\n",
       " (4, 77),\n",
       " (4, 71)]"
      ]
     },
     "execution_count": 235,
     "metadata": {},
     "output_type": "execute_result"
    }
   ],
   "source": [
    "passing_tone(gen)"
   ]
  },
  {
   "cell_type": "code",
   "execution_count": 236,
   "id": "b7458229-c68a-48f7-95ff-c104a79bacec",
   "metadata": {},
   "outputs": [],
   "source": [
    "def delete_note(genome):\n",
    "    prob_op, prob_mut, notes = split_genome(genome)\n",
    "    n = random.choice(range(len(notes)))\n",
    "    \n",
    "    notes = notes.copy()\n",
    "    notes.pop(n)\n",
    "    \n",
    "    genome = [prob_op, prob_mut, *notes]\n",
    "    return genome"
   ]
  },
  {
   "cell_type": "code",
   "execution_count": 237,
   "id": "d20533a4-141d-4fb5-8479-e276f2673700",
   "metadata": {},
   "outputs": [
    {
     "data": {
      "text/plain": [
       "[array([0.4, 0.2, 0.2, 0.2]),\n",
       " array([0.09090909, 0.09090909, 0.09090909, 0.09090909, 0.09090909,\n",
       "        0.09090909, 0.09090909, 0.09090909, 0.09090909, 0.09090909,\n",
       "        0.09090909]),\n",
       " (3, 69),\n",
       " (5, 81),\n",
       " (4, 77),\n",
       " (4, 71)]"
      ]
     },
     "execution_count": 237,
     "metadata": {},
     "output_type": "execute_result"
    }
   ],
   "source": [
    "delete_note(gen)"
   ]
  },
  {
   "cell_type": "code",
   "execution_count": 238,
   "id": "682d18e1-80ba-41f8-a8b6-34260301ad89",
   "metadata": {},
   "outputs": [],
   "source": [
    "def merge_note(genome):\n",
    "    prob_op, prob_mut, notes = split_genome(genome)\n",
    "    is_consecutive = get_pairs(notes)\n",
    "    \n",
    "    if len(is_consecutive)==0: \n",
    "        return genome\n",
    "    \n",
    "    n = random.choice(is_consecutive)\n",
    "    d_a, note_a = notes[n-1]\n",
    "    d_b, note_b = notes[n]\n",
    "    \n",
    "    d = min(8, d_a + d_b)\n",
    "    new = (d, note_a)\n",
    "    \n",
    "    notes[n-1] = new\n",
    "    notes = notes.copy()\n",
    "    \n",
    "    notes.pop(n)\n",
    "    genome = [prob_op, prob_mut, *notes]\n",
    "    return genome"
   ]
  },
  {
   "cell_type": "code",
   "execution_count": 239,
   "id": "00af0cac-499f-4a75-be6d-fe587b79cdb7",
   "metadata": {},
   "outputs": [
    {
     "data": {
      "text/plain": [
       "[array([0.4, 0.2, 0.2, 0.2]),\n",
       " array([0.09090909, 0.09090909, 0.09090909, 0.09090909, 0.09090909,\n",
       "        0.09090909, 0.09090909, 0.09090909, 0.09090909, 0.09090909,\n",
       "        0.09090909]),\n",
       " (3, 69),\n",
       " (5, 81),\n",
       " (3, 64),\n",
       " (4, 77),\n",
       " (4, 71)]"
      ]
     },
     "execution_count": 239,
     "metadata": {},
     "output_type": "execute_result"
    }
   ],
   "source": [
    "merge_note(gen)"
   ]
  },
  {
   "cell_type": "code",
   "execution_count": 272,
   "id": "fa444d05-e82e-4019-8de0-a09312fb2ddb",
   "metadata": {},
   "outputs": [],
   "source": [
    "def mutation(genome, *args):\n",
    "    rules = [\n",
    "        repeat,\n",
    "        split,\n",
    "        arpeggiate,\n",
    "        leap,\n",
    "        upper_neighbor,\n",
    "        lower_neighbor,\n",
    "        anticipation,\n",
    "        delay,\n",
    "        passing_tone,\n",
    "        delete_note,\n",
    "        merge_note\n",
    "    ]\n",
    "    \n",
    "    prob_op, prob_mut, notes = split_genome(genome)\n",
    "    mutation_rule = np.random.choice(\n",
    "                        rules, size=1, p=prob_mut\n",
    "                    )[0]    \n",
    "    genome = mutation_rule(genome)\n",
    "    return [genome]"
   ]
  },
  {
   "cell_type": "code",
   "execution_count": 270,
   "id": "04c4c25f-c498-49c5-b0ef-03fd9f313f88",
   "metadata": {},
   "outputs": [
    {
     "data": {
      "text/plain": [
       "[array([0.39045189, 0.14255212, 0.18181104, 0.28518495]),\n",
       " array([0.03640833, 0.00605717, 0.06913054, 0.2475582 , 0.07673454,\n",
       "        0.09387541, 0.08775609, 0.08151578, 0.13514298, 0.08694019,\n",
       "        0.07888077]),\n",
       " (3, 69),\n",
       " (5, 62),\n",
       " (3, 64),\n",
       " (4, 77),\n",
       " (4, 71)]"
      ]
     },
     "execution_count": 270,
     "metadata": {},
     "output_type": "execute_result"
    }
   ],
   "source": [
    "mutation(gen)"
   ]
  },
  {
   "cell_type": "markdown",
   "id": "fc7bb69d-9142-49bf-9df5-121073756785",
   "metadata": {
    "jp-MarkdownHeadingCollapsed": true,
    "tags": []
   },
   "source": [
    "## Methods Regarding Crossover"
   ]
  },
  {
   "cell_type": "code",
   "execution_count": 280,
   "id": "0b8ade75-f08a-45c6-b2e8-b1d146cb5c6f",
   "metadata": {},
   "outputs": [],
   "source": [
    "def get_cutpoint(genome):\n",
    "    prob_op, prob_mut, notes = split_genome(genome)\n",
    "    duration = sum( note[0] for note in notes )\n",
    "    \n",
    "    point = random.choice(range(1, duration))\n",
    "    return point"
   ]
  },
  {
   "cell_type": "code",
   "execution_count": 294,
   "id": "f5fe59a0-1054-4ef7-876c-93198267ead8",
   "metadata": {},
   "outputs": [],
   "source": [
    "def cut_genome(genome, k):\n",
    "    prob_op, prob_mut, notes = split_genome(genome)\n",
    "    \n",
    "    cum_time=0\n",
    "    for i in range(len(notes)):\n",
    "        d, note = notes[i]\n",
    "        \n",
    "        if cum_time == k:\n",
    "            genome_left = [prob_op, prob_mut, *notes[:i]]\n",
    "            genome_right = [prob_op, prob_mut, *notes[i:]]\n",
    "            \n",
    "            return genome_left, genome_right\n",
    "        \n",
    "        elif cum_time< k < cum_time+d:\n",
    "            d_left = k - cum_time - 1\n",
    "            d_right = d - d_left\n",
    "            \n",
    "            notes_left = notes[:i+1]\n",
    "            notes_right = notes[i:]\n",
    "            \n",
    "            notes_left[-1] = (d_left, note)\n",
    "            notes_right[0] = (d_right, note)\n",
    "            \n",
    "            genome_left = [ prob_op, prob_mut, *notes_left ]\n",
    "            genome_right = [prob_op, prob_mut, *notes_right ]\n",
    "            \n",
    "            return genome_left, genome_right\n",
    "        else:\n",
    "            cum_time+=d"
   ]
  },
  {
   "cell_type": "code",
   "execution_count": 297,
   "id": "9f36e6a9-afc0-41eb-baaa-e30001b59586",
   "metadata": {},
   "outputs": [],
   "source": [
    "def merge_genomes( left, right ):\n",
    "    prob_op_left, prob_mut_left, notes_left = split_genome(left)\n",
    "    prob_op_right, prob_mut_right, notes_right = split_genome(right)\n",
    "    \n",
    "    prob_op = ( prob_op_left + prob_op_right ) / 2\n",
    "    prob_mut = ( prob_mut_left + prob_mut_right) / 2\n",
    "    notes = notes_left + notes_right\n",
    "    \n",
    "    genome = [prob_op, prob_mut, *notes]\n",
    "    return genome"
   ]
  },
  {
   "cell_type": "code",
   "execution_count": 298,
   "id": "0ae3a9e5-ab94-4ceb-8379-a0aa0e6d9e95",
   "metadata": {},
   "outputs": [],
   "source": [
    "def crossover(genome, population_fitness, N ):\n",
    "    k = max(2, N//5)\n",
    "    other_genome = tournament(population_fitness, k)\n",
    "    \n",
    "    i = get_cutpoint(genome)\n",
    "    j = get_cutpoint(other_genome)\n",
    "    \n",
    "    genome_left, genome_right = cut_genome(genome, i)\n",
    "    other_left, other_right = cut_genome(other_genome, j)\n",
    "    \n",
    "    genome_a = merge_genomes(genome_left, other_right)\n",
    "    genome_b = merge_genomes(other_left, genome_left)\n",
    "    \n",
    "    return [genome_a, genome_b]"
   ]
  },
  {
   "cell_type": "code",
   "execution_count": 295,
   "id": "c80e78af-5e50-436b-883c-10abd6998682",
   "metadata": {},
   "outputs": [
    {
     "name": "stdout",
     "output_type": "stream",
     "text": [
      "[(3, 69), (5, 81), (3, 64), (4, 77)] [(4, 71)]\n"
     ]
    }
   ],
   "source": [
    "l, r = cut_genome(gen, 15)\n",
    "print( l[2:], r[2:] )"
   ]
  },
  {
   "cell_type": "code",
   "execution_count": 287,
   "id": "ea2a877f-9df7-4ca5-8094-1c8b7374dd4a",
   "metadata": {},
   "outputs": [
    {
     "data": {
      "text/plain": [
       "[(3, 69), (5, 81), (3, 64), (4, 77), (4, 71)]"
      ]
     },
     "execution_count": 287,
     "metadata": {},
     "output_type": "execute_result"
    }
   ],
   "source": [
    "gen[2:]"
   ]
  },
  {
   "cell_type": "markdown",
   "id": "759a4fce-19cd-4b92-b872-ee5900f90bb4",
   "metadata": {},
   "source": [
    "## Methods for Duplication"
   ]
  },
  {
   "cell_type": "code",
   "execution_count": 393,
   "id": "d3c7fdc6-e7e9-4f04-8fd7-f95eefb15dc6",
   "metadata": {},
   "outputs": [],
   "source": [
    "def duplication(genome, *args):\n",
    "    prob_op, prob_mut, notes = split_genome(genome)\n",
    "    \n",
    "    i = random.choice( range(len(notes)-1) )\n",
    "    j = random.choice( range(1,8+1) )\n",
    "        \n",
    "    to_duplicate = notes[i : i+j]\n",
    "    left = notes[ :i ]\n",
    "    right = notes[ i+j: ]\n",
    "    notes = left + to_duplicate + to_duplicate + right\n",
    "    \n",
    "    genome = [ prob_op, prob_mut, *notes]\n",
    "    return [genome]"
   ]
  },
  {
   "cell_type": "code",
   "execution_count": 336,
   "id": "affb85d4-25da-4578-8c87-163c3dd09f9f",
   "metadata": {},
   "outputs": [
    {
     "name": "stdout",
     "output_type": "stream",
     "text": [
      "1 7\n",
      "[(3, 69)] + [(5, 81), (3, 64), (4, 77), (4, 71)] + []\n"
     ]
    },
    {
     "data": {
      "text/plain": [
       "[(3, 69),\n",
       " (5, 81),\n",
       " (3, 64),\n",
       " (4, 77),\n",
       " (4, 71),\n",
       " (5, 81),\n",
       " (3, 64),\n",
       " (4, 77),\n",
       " (4, 71)]"
      ]
     },
     "execution_count": 336,
     "metadata": {},
     "output_type": "execute_result"
    }
   ],
   "source": [
    "duplication(gen)[0][2:]"
   ]
  },
  {
   "cell_type": "code",
   "execution_count": 327,
   "id": "a96aeb00-e399-4b91-98a0-1fb311d48a67",
   "metadata": {},
   "outputs": [
    {
     "data": {
      "text/plain": [
       "[(3, 69), (5, 81), (3, 64), (4, 77), (4, 71)]"
      ]
     },
     "execution_count": 327,
     "metadata": {},
     "output_type": "execute_result"
    }
   ],
   "source": [
    "gen[2:]"
   ]
  },
  {
   "cell_type": "markdown",
   "id": "28a1527b-4a20-4818-9b03-5325c85480d9",
   "metadata": {},
   "source": [
    "## Methods for Inversion"
   ]
  },
  {
   "cell_type": "code",
   "execution_count": 392,
   "id": "afdd1835-39d5-4d9c-a1cd-8722e53f68e9",
   "metadata": {},
   "outputs": [],
   "source": [
    "def inversion(genome, *args):\n",
    "    prob_op, prob_mut, notes = split_genome(genome)\n",
    "    \n",
    "    i = random.choice( range(len(notes) - 1) )\n",
    "    j = random.choice( range(i+1, len(notes) ) )\n",
    "                      \n",
    "    to_reverse = notes[i : j]\n",
    "    left = notes[:i]\n",
    "    right = notes[j:]\n",
    "    \n",
    "    notes = left + to_reverse[::-1] + right\n",
    "    \n",
    "    genome = [prob_op, prob_mut, *notes]\n",
    "    return [genome]"
   ]
  },
  {
   "cell_type": "code",
   "execution_count": null,
   "id": "cc73ec63-ad91-4b3e-b1ce-1c014ad03a6a",
   "metadata": {},
   "outputs": [],
   "source": []
  }
 ],
 "metadata": {
  "kernelspec": {
   "display_name": "Python 3 (ipykernel)",
   "language": "python",
   "name": "python3"
  },
  "language_info": {
   "codemirror_mode": {
    "name": "ipython",
    "version": 3
   },
   "file_extension": ".py",
   "mimetype": "text/x-python",
   "name": "python",
   "nbconvert_exporter": "python",
   "pygments_lexer": "ipython3",
   "version": "3.9.7"
  }
 },
 "nbformat": 4,
 "nbformat_minor": 5
}
