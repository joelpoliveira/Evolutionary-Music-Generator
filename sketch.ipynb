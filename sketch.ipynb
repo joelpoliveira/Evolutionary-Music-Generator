{
 "cells": [
  {
   "cell_type": "code",
   "execution_count": 213,
   "id": "18187703-841e-4aec-93e9-7be78240bab9",
   "metadata": {},
   "outputs": [],
   "source": [
    "import sounddevice as sd\n",
    "import random\n",
    "import numpy as np\n",
    "import librosa\n",
    "\n",
    "from pydub import AudioSegment\n",
    "from scipy.io import wavfile\n",
    "from midi2audio import FluidSynth\n",
    "from midiutil import MIDIFile\n",
    "from src.util.features import get_feature_vector\n",
    "from scipy.spatial.distance import cosine, minkowski\n",
    "\n",
    "from mido import MidiFile, Message, MidiTrack"
   ]
  },
  {
   "cell_type": "code",
   "execution_count": 197,
   "id": "b27ec8ed-a635-49b3-96ae-b371006e5d4a",
   "metadata": {},
   "outputs": [],
   "source": [
    "def play(file=None, sr=44100):\n",
    "    if file == None: file=WAV_FILE+\".wav\"\n",
    "    song, fs = librosa.load(file,sr=sr)\n",
    "    sd.play(song, fs)\n",
    "    sd.wait()"
   ]
  },
  {
   "cell_type": "code",
   "execution_count": 4,
   "id": "e56fd162-bddc-4c17-8011-f02570367a08",
   "metadata": {},
   "outputs": [],
   "source": [
    "def rand(low=0, high=2):\n",
    "    return random.random()*(high - low + 1) + low"
   ]
  },
  {
   "cell_type": "code",
   "execution_count": 122,
   "id": "e3da2c6a-ddb1-45fa-997f-45fbc61c14eb",
   "metadata": {},
   "outputs": [],
   "source": [
    "FONT = \"./src/soundfonts/piano_chords.sf2\"\n",
    "MIDI_FILE = \"./src/input/temp\"\n",
    "WAV_FILE = \"./src/output/temp\""
   ]
  },
  {
   "cell_type": "code",
   "execution_count": 161,
   "id": "758f45bf-4cdb-4cee-b3cb-555f032c0667",
   "metadata": {},
   "outputs": [],
   "source": [
    "def pitch_mutation(pitch = None):\n",
    "    #23, 35, 47, 95\n",
    "    pitches = [47, 59, 71]\n",
    "    if pitch == None:\n",
    "        n = random.randrange(0, len(pitches))\n",
    "        return n, pitches[n]\n",
    "    else:\n",
    "        m = random.choices([-1,0,1], weights=[0.2, 0.6, 0.2])[0]\n",
    "        pitch += m\n",
    "        if pitch == len(pitches):\n",
    "            return pitch-1, pitches[ pitch - 1 ]\n",
    "        if pitch < 0:\n",
    "            return 0, pitches[ 0 ]\n",
    "        return pitch, pitches[ pitch ]"
   ]
  },
  {
   "cell_type": "code",
   "execution_count": 145,
   "id": "8ef7597e-c23d-4da5-b93c-cab55be290b8",
   "metadata": {},
   "outputs": [],
   "source": [
    "def choice(arr, size=5, replace=False):\n",
    "    return list(np.random.choice(arr, size=size, replace=replace))"
   ]
  },
  {
   "cell_type": "code",
   "execution_count": 192,
   "id": "986e0452-7782-46f5-af56-8016069da51a",
   "metadata": {},
   "outputs": [],
   "source": [
    "def generate_notes(n: int) -> list:\n",
    "    reps = list(range(0,12+1))\n",
    "    \n",
    "    durations = [ random.choices( \n",
    "        range(1,8),\n",
    "    )[0] for _ in range(n) ]\n",
    "    notes = [ \n",
    "        choice(reps, size=1)[0] for _ in range(n) \n",
    "    ]\n",
    "    \n",
    "    return list(zip(durations, notes))"
   ]
  },
  {
   "cell_type": "code",
   "execution_count": 181,
   "id": "b7827925-0292-400f-afec-ffc909276aa9",
   "metadata": {},
   "outputs": [],
   "source": [
    "def save_harmony(midi_file, out):\n",
    "    with open(MIDI_FILE + out + \".midi\", \"wb\") as output_file:\n",
    "        midi_file.writeFile(output_file)\n",
    "        \n",
    "    song = BytesIO()\n",
    "    wav_song = BytesIO()\n",
    "    \n",
    "    midi_file.writeFile(song)\n",
    "\n",
    "    FluidSynth(\n",
    "            sound_font=FONT\n",
    "        ).midi_to_audio(MIDI_FILE + out + \".midi\", WAV_FILE + out + \".wav\")"
   ]
  },
  {
   "cell_type": "code",
   "execution_count": 205,
   "id": "b406e35b-0b3d-47be-8a12-257a94e20123",
   "metadata": {},
   "outputs": [],
   "source": [
    "def generate_harmony(n: int, fl_ext: str):\n",
    "    notes = generate_notes(n)\n",
    "    \n",
    "    midi_file = MIDIFile(1)\n",
    "    tempo = 120#random.randrange(30,120 + 1)\n",
    "    midi_file.addTempo(0,0, tempo)\n",
    "    k, pitch = pitch_mutation()\n",
    "    \n",
    "    cum_time = 0\n",
    "    for note in notes:\n",
    "        duration, note = note\n",
    "        duration = 4/duration\n",
    "        k, pitch = pitch_mutation(k)\n",
    "        \n",
    "        midi_file.addNote(0, 0, pitch+note, cum_time, duration, 100)\n",
    "        cum_time+=duration\n",
    "    save_harmony(midi_file, fl_ext)\n",
    "    return notes"
   ]
  },
  {
   "cell_type": "code",
   "execution_count": 206,
   "id": "8b6d98f4-a08b-477b-8c20-de8200f3868a",
   "metadata": {},
   "outputs": [
    {
     "data": {
      "text/plain": [
       "[(5, 6),\n",
       " (5, 12),\n",
       " (6, 5),\n",
       " (5, 6),\n",
       " (4, 10),\n",
       " (4, 8),\n",
       " (1, 9),\n",
       " (1, 11),\n",
       " (4, 5),\n",
       " (6, 10)]"
      ]
     },
     "execution_count": 206,
     "metadata": {},
     "output_type": "execute_result"
    }
   ],
   "source": [
    "generate_harmony(10, \"\")"
   ]
  },
  {
   "cell_type": "code",
   "execution_count": 207,
   "id": "60a5d834-51a2-44f4-833a-815f1cd0a6de",
   "metadata": {},
   "outputs": [],
   "source": [
    "play()"
   ]
  },
  {
   "cell_type": "code",
   "execution_count": 208,
   "id": "ea859cfb-90de-4a52-bc64-a281cbc6edfc",
   "metadata": {},
   "outputs": [],
   "source": [
    "def generate_random_chord_progression():\n",
    "    chords = [[60, 64, 67], [62, 65, 69], [64, 67, 71], [65, 69, 72]]\n",
    "    return random.choices(chords, k=4)"
   ]
  },
  {
   "cell_type": "code",
   "execution_count": 222,
   "id": "98b13c26-b819-4e32-96a4-42e024970072",
   "metadata": {},
   "outputs": [],
   "source": [
    "m = MidiFile()"
   ]
  },
  {
   "cell_type": "code",
   "execution_count": 223,
   "id": "f2c7a849-8aa8-414c-a831-b9805cfb735e",
   "metadata": {},
   "outputs": [],
   "source": [
    "track = MidiTrack()\n",
    "m.tracks.append(track)"
   ]
  },
  {
   "cell_type": "code",
   "execution_count": 224,
   "id": "0f0065d5-b590-431f-b314-47b5923cfb5c",
   "metadata": {},
   "outputs": [],
   "source": [
    "c = generate_random_chord_progression()"
   ]
  },
  {
   "cell_type": "code",
   "execution_count": 225,
   "id": "8109a48c-cbee-487c-8da3-01fa12f3b91d",
   "metadata": {},
   "outputs": [
    {
     "data": {
      "text/plain": [
       "[[60, 64, 67], [60, 64, 67], [60, 64, 67], [65, 69, 72]]"
      ]
     },
     "execution_count": 225,
     "metadata": {},
     "output_type": "execute_result"
    }
   ],
   "source": [
    "c"
   ]
  },
  {
   "cell_type": "code",
   "execution_count": 226,
   "id": "4ead426e-0605-4f75-ba79-1295cc603d69",
   "metadata": {},
   "outputs": [],
   "source": [
    "time=0\n",
    "for chord in c:\n",
    "    for note in chord:\n",
    "        track.append(Message('note_on', note=note, velocity=64, time=time))\n",
    "        time = 0\n",
    "    track.append(Message('note_off', note=note, velocity=64, time=time))"
   ]
  },
  {
   "cell_type": "code",
   "execution_count": 227,
   "id": "224cd427-593f-4371-b093-51c2f6edb60f",
   "metadata": {},
   "outputs": [],
   "source": [
    "m.save(MIDI_FILE+\"midi\")"
   ]
  },
  {
   "cell_type": "code",
   "execution_count": 228,
   "id": "6e21e104-6ed7-4a5f-a5fa-0e77db46b53c",
   "metadata": {},
   "outputs": [],
   "source": [
    "FluidSynth(\n",
    "            sound_font=FONT\n",
    "        ).midi_to_audio(MIDI_FILE + \".midi\", WAV_FILE + \".wav\")"
   ]
  },
  {
   "cell_type": "code",
   "execution_count": 255,
   "id": "f001bbe4-e67e-4fb2-862f-03a368c19756",
   "metadata": {},
   "outputs": [],
   "source": [
    "def generate_random_melody():\n",
    "    # Create a new MIDI file\n",
    "    mf = MIDIFile(2)\n",
    "    melody_track = 0\n",
    "    bassline_track = 1\n",
    "    time = 0\n",
    "    \n",
    "    mf.addTrackName(melody_track, time, \"Melody Track\")\n",
    "    mf.addTrackName(bassline_track, time, \"Bassline Track\")\n",
    "    mf.addTempo(melody_track, time, 120)\n",
    "    mf.addTempo(bassline_track, time, 120)\n",
    "\n",
    "    # Generate a random chord progression\n",
    "    chord_progression = generate_random_chord_progression()\n",
    "\n",
    "    for i in range(10):\n",
    "        # Add the chord to the MIDI file\n",
    "        chord = chord_progression[i % len(chord_progression)]\n",
    "        for n in chord:\n",
    "            mf.addNote(melody_track, 0, n, i, 1, 100)\n",
    "\n",
    "        # Generate a random melody note that fits the chord\n",
    "        pitch = random.choice(chord)\n",
    "        duration = 1\n",
    "        mf.addNote(melody_track, 0, pitch, i, duration, 100)\n",
    "\n",
    "        # Generate a random bassline note that fits the chord\n",
    "        print(chord)\n",
    "        current_chord = [note for note in chord if note % 12 in [0, 5]]\n",
    "        if len(current_chord)==0:\n",
    "            current_chord = [chord[0]]\n",
    "        bassline_pitch = random.choice(current_chord)\n",
    "        mf.addNote(bassline_track, 0, bassline_pitch, i, 1, 100)\n",
    "\n",
    "    # Save the MIDI file\n",
    "    with open(MIDI_FILE+\".midi\", 'wb') as outf:\n",
    "        mf.writeFile(outf)\n",
    "    \n",
    "    FluidSynth(\n",
    "            sound_font=FONT\n",
    "        ).midi_to_audio(MIDI_FILE + \".midi\", WAV_FILE + \".wav\")"
   ]
  },
  {
   "cell_type": "code",
   "execution_count": 256,
   "id": "a58c980f-169b-4c7d-ae6b-9b21fe3df7aa",
   "metadata": {},
   "outputs": [
    {
     "name": "stdout",
     "output_type": "stream",
     "text": [
      "[62, 65, 69]\n",
      "[65, 69, 72]\n",
      "[64, 67, 71]\n",
      "[60, 64, 67]\n",
      "[62, 65, 69]\n",
      "[65, 69, 72]\n",
      "[64, 67, 71]\n",
      "[60, 64, 67]\n",
      "[62, 65, 69]\n",
      "[65, 69, 72]\n"
     ]
    }
   ],
   "source": [
    "generate_random_melody()"
   ]
  },
  {
   "cell_type": "code",
   "execution_count": null,
   "id": "67e0b4d5-97d1-450e-b82e-1097bdbe6274",
   "metadata": {},
   "outputs": [],
   "source": []
  }
 ],
 "metadata": {
  "kernelspec": {
   "display_name": "Python 3 (ipykernel)",
   "language": "python",
   "name": "python3"
  },
  "language_info": {
   "codemirror_mode": {
    "name": "ipython",
    "version": 3
   },
   "file_extension": ".py",
   "mimetype": "text/x-python",
   "name": "python",
   "nbconvert_exporter": "python",
   "pygments_lexer": "ipython3",
   "version": "3.9.7"
  }
 },
 "nbformat": 4,
 "nbformat_minor": 5
}
