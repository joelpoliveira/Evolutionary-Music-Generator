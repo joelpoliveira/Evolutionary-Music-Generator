{
 "cells": [
  {
   "cell_type": "code",
   "execution_count": 18,
   "id": "18187703-841e-4aec-93e9-7be78240bab9",
   "metadata": {},
   "outputs": [],
   "source": [
    "import sounddevice as sd\n",
    "import random\n",
    "import numpy as np\n",
    "import librosa\n",
    "\n",
    "from threading import Thread\n",
    "from pydub import AudioSegment\n",
    "from scipy.io import wavfile\n",
    "from midi2audio import FluidSynth\n",
    "from midiutil import MIDIFile\n",
    "from src.util.features import get_feature_vector\n",
    "from scipy.spatial.distance import cosine, minkowski\n",
    "from io import BytesIO"
   ]
  },
  {
   "cell_type": "code",
   "execution_count": 45,
   "id": "69154d1d-479e-422e-8e1f-ce70b833c7d8",
   "metadata": {},
   "outputs": [],
   "source": [
    "FONT = \"./src/soundfonts/piano_eletro.sf2\"\n",
    "MIDI_FILE = \"./src/input/temp\"\n",
    "WAV_FILE = \"./src/output/temp\""
   ]
  },
  {
   "cell_type": "code",
   "execution_count": 42,
   "id": "37359807-599d-4657-923a-b29b4f29f762",
   "metadata": {},
   "outputs": [],
   "source": [
    "def loop_play(file=None, sr=44100):\n",
    "    t = Thread(target=play)\n",
    "    t.start()"
   ]
  },
  {
   "cell_type": "code",
   "execution_count": 20,
   "id": "b27ec8ed-a635-49b3-96ae-b371006e5d4a",
   "metadata": {},
   "outputs": [],
   "source": [
    "def play(file=None, sr=44100):\n",
    "    if file == None: file=WAV_FILE+\".wav\"\n",
    "    song, fs = librosa.load(file,sr=sr)\n",
    "    sd.play(song, fs, loop=True)\n",
    "    sd.wait()"
   ]
  },
  {
   "cell_type": "code",
   "execution_count": 21,
   "id": "e56fd162-bddc-4c17-8011-f02570367a08",
   "metadata": {},
   "outputs": [],
   "source": [
    "def rand(low=0, high=2):\n",
    "    return random.random()*(high - low + 1) + low"
   ]
  },
  {
   "cell_type": "code",
   "execution_count": 22,
   "id": "b7827925-0292-400f-afec-ffc909276aa9",
   "metadata": {},
   "outputs": [],
   "source": [
    "def save_harmony(midi_file, out):\n",
    "    with open(MIDI_FILE + out + \".midi\", \"wb\") as output_file:\n",
    "        midi_file.writeFile(output_file)\n",
    "        output_file.close()\n",
    "    \n",
    "    song = BytesIO()\n",
    "    wav_song = BytesIO()\n",
    "    \n",
    "    midi_file.writeFile(song)\n",
    "\n",
    "    FluidSynth(\n",
    "            sound_font=FONT\n",
    "        ).midi_to_audio(MIDI_FILE + out + \".midi\", WAV_FILE + out + \".wav\")"
   ]
  },
  {
   "cell_type": "markdown",
   "id": "a105970c-425a-4e11-9cb4-651a3b1b87e4",
   "metadata": {},
   "source": [
    "## Parameters to encode\n",
    " - [ ] Tempo\n",
    " - [ ] Nº of Notes\n",
    " - [x] Notes\n",
    " - [x] Notes duration\n",
    " - [x] Probability of operations "
   ]
  },
  {
   "cell_type": "markdown",
   "id": "c45dd8d9-f5de-4351-a6f1-fc3c8e5d6ee3",
   "metadata": {},
   "source": [
    "## Methods For the Generation of the chromossome"
   ]
  },
  {
   "cell_type": "code",
   "execution_count": 41,
   "id": "e210a1df-4d86-4d93-b74b-baab027aaada",
   "metadata": {},
   "outputs": [],
   "source": [
    "MAX_NOTE = 108\n",
    "MIN_NOTE = 21"
   ]
  },
  {
   "cell_type": "code",
   "execution_count": 49,
   "id": "ebf1e275-6dd8-4a54-9c6c-e9c3687d6606",
   "metadata": {},
   "outputs": [],
   "source": [
    "def get_pitch(i: int):\n",
    "    #21 -- 108\n",
    "    #23 -- 75\n",
    "    pitch_base = [23, 35, 47, 59, 71, 83, 95]\n",
    "    return pitch_base[i]"
   ]
  },
  {
   "cell_type": "code",
   "execution_count": 50,
   "id": "c5235ca5-ec42-4b26-a920-301c5ea322a2",
   "metadata": {},
   "outputs": [],
   "source": [
    "def generate_random_note():\n",
    "    p = random.choice(range(7))\n",
    "    pitch = get_pitch(p)\n",
    "    notes = [1, 3, 5, 6, 8, 10, 12]#list(range(1,12+1))\n",
    "    \n",
    "    note = random.choice(notes) + pitch\n",
    "    return note"
   ]
  },
  {
   "cell_type": "code",
   "execution_count": 51,
   "id": "aa0c55ca-450d-4832-8ce5-b4fbce60f8e6",
   "metadata": {},
   "outputs": [],
   "source": [
    "def generate_random_chord():\n",
    "    base = generate_random_note()\n",
    "    chord = [base, base+4, base+7]\n",
    "    duration = random.choice(range(1, 8+1))\n",
    "    return duration, chord"
   ]
  },
  {
   "cell_type": "code",
   "execution_count": 95,
   "id": "b68c9b2a-b519-40dc-8abb-c7900df4fd3e",
   "metadata": {},
   "outputs": [],
   "source": [
    "def generate_random_genome():\n",
    "    N = 5\n",
    "    probs = (0.4, #P(mutation)\n",
    "             0.2, #P(crossover) \n",
    "             0.2, #P(inverse)\n",
    "             0.2) #P(duplication)\n",
    "    \n",
    "    genome = [probs]\n",
    "    for _ in range(N):\n",
    "        duration, chord = generate_random_chord()\n",
    "        melody_note = generate_random_note()\n",
    "        genome.append( (duration, chord, melody_note) )\n",
    "    \n",
    "    return genome"
   ]
  },
  {
   "cell_type": "code",
   "execution_count": 118,
   "id": "6580acdb-579e-4382-8fd5-a943f6e908f5",
   "metadata": {},
   "outputs": [],
   "source": [
    "def get_phenotype(genome):\n",
    "    midi_file = MIDIFile(2)\n",
    "    melody=0\n",
    "    \n",
    "    tempo = 120\n",
    "    midi_file.addTempo(melody, 0, tempo)\n",
    "    midi_file.addTempo(1,0,tempo)\n",
    "    \n",
    "    cum_time = 0\n",
    "    \n",
    "    probs, notes = genome[0], genome[1:]\n",
    "    for el in notes:\n",
    "        d, chord, note= el\n",
    "        \n",
    "        #for n in chord:\n",
    "        #    midi_file.addNote(melody, 0, n, cum_time, d, 100)\n",
    "        midi_file.addNote(melody, 0, note, cum_time, d/2, 100)\n",
    "        \n",
    "        cum_time+=d/2\n",
    "    save_harmony(midi_file, \"\")\n",
    "    return midi_file"
   ]
  },
  {
   "cell_type": "code",
   "execution_count": 97,
   "id": "f2eac379-4ad9-4b1e-a33f-806b6087dd1c",
   "metadata": {},
   "outputs": [
    {
     "data": {
      "text/plain": [
       "[(0.4, 0.2, 0.2, 0.2),\n",
       " (2, [29, 33, 36], 74),\n",
       " (6, [28, 32, 35], 88),\n",
       " (5, [41, 45, 48], 52),\n",
       " (2, [62, 66, 69], 69),\n",
       " (6, [55, 59, 62], 41)]"
      ]
     },
     "execution_count": 97,
     "metadata": {},
     "output_type": "execute_result"
    }
   ],
   "source": [
    "gen = generate_random_genome()\n",
    "gen"
   ]
  },
  {
   "cell_type": "code",
   "execution_count": 109,
   "id": "e9d49d7a-274a-4101-80a0-f5ef7ffb6aa4",
   "metadata": {},
   "outputs": [
    {
     "data": {
      "text/plain": [
       "[(0.4, 0.2, 0.2, 0.2),\n",
       " (2, [29, 33, 36], 74),\n",
       " (6, [28, 32, 35], 88),\n",
       " (5, [41, 45, 48], 52),\n",
       " (2, [62, 66, 69], 69),\n",
       " (6, [55, 59, 62], 41)]"
      ]
     },
     "execution_count": 109,
     "metadata": {},
     "output_type": "execute_result"
    }
   ],
   "source": [
    "gen"
   ]
  },
  {
   "cell_type": "code",
   "execution_count": 145,
   "id": "0f343582-92c7-4357-9678-003c0c15fa61",
   "metadata": {},
   "outputs": [
    {
     "data": {
      "text/plain": [
       "[(0.4, 0.2, 0.2, 0.2),\n",
       " (2, [29, 33, 36], 74),\n",
       " (1.0, [29, 33, 36], 76),\n",
       " (1.0, [29, 33, 36], 77),\n",
       " (1.0, [29, 33, 36], 79),\n",
       " (1.0, [29, 33, 36], 81),\n",
       " (1.0, [29, 33, 36], 83),\n",
       " (1.0, [29, 33, 36], 84),\n",
       " (1.0, [29, 33, 36], 86),\n",
       " (6, [28, 32, 35], 88),\n",
       " (5, [41, 45, 48], 52),\n",
       " (2, [62, 66, 69], 69),\n",
       " (6, [55, 59, 62], 41)]"
      ]
     },
     "execution_count": 145,
     "metadata": {},
     "output_type": "execute_result"
    }
   ],
   "source": [
    "gen_2=passing_tone(gen)\n",
    "gen_2"
   ]
  },
  {
   "cell_type": "code",
   "execution_count": 146,
   "id": "10d0f7e2-b955-4bcf-85c9-6ba3262d9633",
   "metadata": {},
   "outputs": [],
   "source": [
    "mf = get_phenotype(gen_2)"
   ]
  },
  {
   "cell_type": "markdown",
   "id": "ad94339a-e232-4dab-921b-9e28f8d39643",
   "metadata": {},
   "source": [
    "## Methods Regarding Mutation"
   ]
  },
  {
   "cell_type": "code",
   "execution_count": 33,
   "id": "5aacc6fb-dc6c-4e36-bce6-0f05b4b19963",
   "metadata": {},
   "outputs": [],
   "source": [
    "def repeat(genome):\n",
    "    probs, notes = genome[0], genome[1:]\n",
    "    n = random.choice(range(len(notes)))\n",
    "    \n",
    "    notes.insert(n, notes[n])\n",
    "    genome = [probs, *notes]\n",
    "    return genome"
   ]
  },
  {
   "cell_type": "code",
   "execution_count": 34,
   "id": "42a118d8-f62a-4b18-91a3-3d457be17d1b",
   "metadata": {},
   "outputs": [],
   "source": [
    "def split(genome):\n",
    "    probs, notes = genome[0], genome[1:]\n",
    "    n = random.choice(range(len(notes)))\n",
    "    \n",
    "    duration, chord, note = notes[n]\n",
    "    new_duration = duration/2\n",
    "    \n",
    "    new_note = (new_duration, chord, note)\n",
    "    notes[n] = new_note\n",
    "    notes.insert(n, new_note)\n",
    "    \n",
    "    genome = [probs, *notes]\n",
    "    return genome"
   ]
  },
  {
   "cell_type": "code",
   "execution_count": 35,
   "id": "7419f923-59fe-4855-8acf-546643374e0f",
   "metadata": {},
   "outputs": [],
   "source": [
    "def arpeggiate(genome):\n",
    "    probs, notes = genome[0], genome[1:]\n",
    "    n = random.choice(range(len(notes)))\n",
    "    \n",
    "    duration, chord, note = notes[n]\n",
    "    pitch_incr = random.choice([4,7])\n",
    "    \n",
    "    new_pitch = min(MAX_NOTE, note+pitch_incr)\n",
    "    new_note = (duration, chord, new_pitch)\n",
    "    \n",
    "    notes.insert(n+1, new_note)\n",
    "    \n",
    "    genome = [probs, *notes]\n",
    "    return genome"
   ]
  },
  {
   "cell_type": "code",
   "execution_count": 60,
   "id": "c37ef643-8dac-4f10-a2de-a8d2fedc4389",
   "metadata": {
    "tags": []
   },
   "outputs": [],
   "source": [
    "def leap(genome):\n",
    "    probs, notes = genome[0], genome[1:]\n",
    "    n = random.choice(range(len(notes)))\n",
    "    \n",
    "    duration, chord, note = notes[n]\n",
    "    while (new:=generate_random_note())==note: continue\n",
    "    \n",
    "    new_note = (duration, chord, new)\n",
    "    notes[n] = new_note\n",
    "    \n",
    "    genome = [probs, *notes]\n",
    "    return genome"
   ]
  },
  {
   "cell_type": "code",
   "execution_count": 63,
   "id": "b6ba5d98-d6b6-4a3e-91ce-c0dd2bed54ab",
   "metadata": {},
   "outputs": [],
   "source": [
    "def get_pairs(notes):\n",
    "    is_consecutive = []\n",
    "    for i in range(len(notes)-1):\n",
    "        d_a, chord_a, note_a = notes[i]\n",
    "        d_b, chord_b, note_b = notes[i+1]\n",
    "        \n",
    "        if note_a==note_b:\n",
    "            is_consecutive.append(i+1)\n",
    "    return is_consecutive"
   ]
  },
  {
   "cell_type": "code",
   "execution_count": 66,
   "id": "b6e42b49-a493-47d0-a446-86b8caa1fc8d",
   "metadata": {},
   "outputs": [],
   "source": [
    "def diatonic_upper_step_size(note):\n",
    "    if note%12 in (0, 2, 5, 7, 9):\n",
    "        return 2\n",
    "    return 1"
   ]
  },
  {
   "cell_type": "code",
   "execution_count": 67,
   "id": "fc18029b-fc94-4901-88e7-d512e6eb2daa",
   "metadata": {},
   "outputs": [],
   "source": [
    "def diatonic_lower_step_size(note):\n",
    "    if note%12 in (0, 5):\n",
    "        return 1\n",
    "    return 2"
   ]
  },
  {
   "cell_type": "code",
   "execution_count": 68,
   "id": "510f0ac5-2f8d-4ea7-97a4-23e701d0a99d",
   "metadata": {},
   "outputs": [],
   "source": [
    "def upper_neighbor(genome):\n",
    "    probs, notes = genome[0], genome[1:]\n",
    "    \n",
    "    is_consecutive = get_pairs(notes)\n",
    "    if len(is_consecutive)==0:\n",
    "        return genome\n",
    "    \n",
    "    n = random.choice(is_consecutive)\n",
    "    d, chord, note = notes[n]\n",
    "    \n",
    "    step = diatonic_upper_step_size(note)\n",
    "    note = min(MAX_NOTE, note+step)\n",
    "    \n",
    "    notes[n] = (d, chord, note)\n",
    "    genome = [probs, *notes]\n",
    "    return genome   "
   ]
  },
  {
   "cell_type": "code",
   "execution_count": 86,
   "id": "e88b8883-f443-44e5-af55-8b934f0f2218",
   "metadata": {},
   "outputs": [],
   "source": [
    "def lower_neighbor(genome):\n",
    "    probs, notes = genome[0], genome[1:]\n",
    "\n",
    "    is_consecutive = get_pairs(notes)\n",
    "    if len(is_consecutive)==0:\n",
    "        return genome\n",
    "    \n",
    "    n = random.choice(is_consecutive)\n",
    "    d, chord, note = notes[n]\n",
    "    \n",
    "    step = diatonic_lower_step_size(note)\n",
    "    note = max(MIN_NOTE, note - step)\n",
    "    \n",
    "    notes[n] = (d, chord, note)\n",
    "    genome = [probs, *notes]\n",
    "    return genome"
   ]
  },
  {
   "cell_type": "code",
   "execution_count": 89,
   "id": "091959b9-ee36-4cc1-a38f-fc197b83f438",
   "metadata": {},
   "outputs": [],
   "source": [
    "def anticipation(genome):\n",
    "    probs, notes = genome[0], genome[1:]\n",
    "    n = random.choice(range(len(notes)))\n",
    "    \n",
    "    duration, chord, note = notes[n]\n",
    "    \n",
    "    notes[n] = (duration * 0.25, chord, note)\n",
    "    notes.insert(n+1, (duration * 0.75, chord, note))\n",
    "    \n",
    "    genome = [probs, *notes]\n",
    "    return genome"
   ]
  },
  {
   "cell_type": "code",
   "execution_count": 92,
   "id": "b05299e5-20ed-49f4-abb7-e790d145389f",
   "metadata": {},
   "outputs": [],
   "source": [
    "def delay(genome):\n",
    "    probs, notes = genome[0], genome[1:]\n",
    "    n = random.choice(range(len(notes)))\n",
    "    \n",
    "    duration, chord, note = notes[n]\n",
    "    \n",
    "    notes[n] = (duration * 0.75, chord, note)\n",
    "    notes.insert(n+1, (duration * 0.25, chord, note))\n",
    "    \n",
    "    genome = [probs, *notes]\n",
    "    return genome"
   ]
  },
  {
   "cell_type": "code",
   "execution_count": 143,
   "id": "93da279c-b7a9-465a-85f5-a07c43c3521a",
   "metadata": {},
   "outputs": [],
   "source": [
    "def passing_tone(genome):\n",
    "    probs, notes = genome[0], genome[1:]\n",
    "    n = random.choice( range( len( notes ) - 1 ) )\n",
    "    \n",
    "    d, chord, note = notes[n]\n",
    "    d_b, chord_b, note_b = notes[n+1]\n",
    "    \n",
    "    d = min(d, d_b)/2\n",
    "    if note>note_b:   \n",
    "        new_notes = []\n",
    "        while note - ( step := diatonic_lower_step_size(note) ) > note_b:\n",
    "            note -= step\n",
    "            new = (d, chord, note)\n",
    "            new_notes.append(new)\n",
    "        notes = notes[:n+1] + new_notes + notes[n+1:]\n",
    "        \n",
    "    if note<note_b:\n",
    "        new_notes = []\n",
    "        while note + ( step := diatonic_upper_step_size(note) ) < note_b:\n",
    "            note += step\n",
    "            new = (d, chord, note)\n",
    "            new_notes.append(new)\n",
    "        notes = notes[:n+1] + new_notes + notes[n+1:]\n",
    "    genome = [probs, *notes]\n",
    "    return genome    "
   ]
  },
  {
   "cell_type": "code",
   "execution_count": 101,
   "id": "b7458229-c68a-48f7-95ff-c104a79bacec",
   "metadata": {},
   "outputs": [],
   "source": [
    "def delete_note(genome):\n",
    "    probs, notes = genome[0], genome[1:]\n",
    "    n = random.choice(range(len(notes)))\n",
    "    \n",
    "    notes = notes.copy()\n",
    "    notes.pop(n)\n",
    "    \n",
    "    genome = [probs, *notes]\n",
    "    return genome"
   ]
  },
  {
   "cell_type": "code",
   "execution_count": 102,
   "id": "682d18e1-80ba-41f8-a8b6-34260301ad89",
   "metadata": {},
   "outputs": [],
   "source": [
    "def merge_note(genome):\n",
    "    probs, notes = genome[0], genome[1:]\n",
    "    is_consecutive = get_pairs(notes)\n",
    "    \n",
    "    if len(is_consecutive)==0: \n",
    "        return genome\n",
    "    \n",
    "    n = random.choice(is_consecutive)\n",
    "    d_a, chord_a, note_a = notes[n-1]\n",
    "    d_b, chord_b, note_b = notes[n]\n",
    "    \n",
    "    d = min(8, d_a + d_b)\n",
    "    new = (d, chord_a, note_a)\n",
    "    \n",
    "    notes[n-1] = new\n",
    "    notes = notes.copy()\n",
    "    \n",
    "    notes.pop(n)\n",
    "    genome = [probs, *notes]\n",
    "    return genome"
   ]
  },
  {
   "cell_type": "code",
   "execution_count": 139,
   "id": "fa444d05-e82e-4019-8de0-a09312fb2ddb",
   "metadata": {},
   "outputs": [],
   "source": [
    "def mutation(genome):\n",
    "    rules = [\n",
    "        repeat,\n",
    "        split,\n",
    "        arpeggiate,\n",
    "        leap,\n",
    "        upper_neighbor,\n",
    "        lower_neighbor,\n",
    "        anticipation,\n",
    "        delay,\n",
    "        passing_tone,\n",
    "        delete_note,\n",
    "        merge_note\n",
    "    ]\n",
    "    \n",
    "    probs = np.ones(len(rules))/len(rules)\n",
    "    mutation_rule = np.random.choice(\n",
    "                        rules, size=1, p=probs\n",
    "                    )[0]\n",
    "    genome = mutation_rule(genome)\n",
    "    return genome"
   ]
  },
  {
   "cell_type": "markdown",
   "id": "fc7bb69d-9142-49bf-9df5-121073756785",
   "metadata": {
    "tags": []
   },
   "source": [
    "## Methods Regarding Crossover"
   ]
  },
  {
   "cell_type": "code",
   "execution_count": null,
   "id": "c46c7e2a-8c17-4e52-87a0-7c075bb6e8a8",
   "metadata": {},
   "outputs": [],
   "source": [
    "def tournament(pop, k):\n",
    "    sub_pop = np.random.choice(pop, size=k, replace=True)\n",
    "    \n",
    "    sub_fitness = list(map(fitness, sub_pop))\n",
    "    \n",
    "    "
   ]
  },
  {
   "cell_type": "code",
   "execution_count": null,
   "id": "0ae3a9e5-ab94-4ceb-8379-a0aa0e6d9e95",
   "metadata": {},
   "outputs": [],
   "source": [
    "def crossover():"
   ]
  },
  {
   "cell_type": "code",
   "execution_count": 48,
   "id": "2a6b573b-8aa0-4f81-8402-5533effb9e0a",
   "metadata": {},
   "outputs": [],
   "source": [
    "sd.stop()"
   ]
  },
  {
   "cell_type": "code",
   "execution_count": 65,
   "id": "c80e78af-5e50-436b-883c-10abd6998682",
   "metadata": {},
   "outputs": [
    {
     "data": {
      "text/plain": [
       "2"
      ]
     },
     "execution_count": 65,
     "metadata": {},
     "output_type": "execute_result"
    }
   ],
   "source": [
    "98%12"
   ]
  },
  {
   "cell_type": "code",
   "execution_count": null,
   "id": "def1e157-90ef-4f32-9b7e-2c9db84b7bec",
   "metadata": {},
   "outputs": [],
   "source": []
  }
 ],
 "metadata": {
  "kernelspec": {
   "display_name": "Python 3 (ipykernel)",
   "language": "python",
   "name": "python3"
  },
  "language_info": {
   "codemirror_mode": {
    "name": "ipython",
    "version": 3
   },
   "file_extension": ".py",
   "mimetype": "text/x-python",
   "name": "python",
   "nbconvert_exporter": "python",
   "pygments_lexer": "ipython3",
   "version": "3.9.7"
  }
 },
 "nbformat": 4,
 "nbformat_minor": 5
}
